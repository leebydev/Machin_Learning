{
 "cells": [
  {
   "cell_type": "code",
   "execution_count": 55,
   "id": "f4778839",
   "metadata": {},
   "outputs": [],
   "source": [
    "import numpy as np\n",
    "from IPython.display import Image"
   ]
  },
  {
   "cell_type": "code",
   "execution_count": 10,
   "id": "d2d777e5",
   "metadata": {},
   "outputs": [
    {
     "name": "stdout",
     "output_type": "stream",
     "text": [
      "[1, 2, 3, 4]\n",
      "<class 'list'>\n",
      "[1 2 3 4]\n",
      "<class 'numpy.ndarray'>\n",
      "int32\n",
      "[1.  2.3 3.  4. ]\n",
      "float64\n"
     ]
    }
   ],
   "source": [
    "# python list\n",
    "a = [1, 2, 3, 4]\n",
    "print(a) # [1, 2, 3, 4]\n",
    "print(type(a)) # <class 'list'>\n",
    "\n",
    "\n",
    "# Numpy의 ndarray\n",
    "arr = np.array([1, 2, 3, 4])\n",
    "print(arr) # [1 2 3 4] => 1차원임 // 오잉??? ,가 없음!! ndarray는 공백을 가지고 구분 한다!\n",
    "print(type(arr)) # <class 'numpy.ndarray'> numpy의 ndarray로 부터 만들어진 클래스 객체\n",
    "print(arr.dtype) # int32 // arr의 데이터 타입 확인\n",
    "\n",
    "arr2 = np.array([1, 2.3, 3, 4]) # 정수, 실수, 실수, 실수\n",
    "print(arr2) # [1.  2.3 3.  4. ] 정수 -> 실수 로 바뀜!\n",
    "print(arr2.dtype) # float64"
   ]
  },
  {
   "cell_type": "code",
   "execution_count": 18,
   "id": "3a0cbc1a",
   "metadata": {
    "scrolled": true
   },
   "outputs": [
    {
     "name": "stdout",
     "output_type": "stream",
     "text": [
      "[[1, 2, 3], [4, 5, 6]]\n",
      "5\n",
      "[[1 2 3]\n",
      " [4 5 6]]\n",
      "5\n",
      "[4 5 6]\n",
      "int32\n",
      "[[1. 2. 3.]\n",
      " [4. 5. 6.]]\n",
      "float64\n"
     ]
    }
   ],
   "source": [
    "# 다차원 배열\n",
    "\n",
    "# 중첩 list\n",
    "my_list = [[1, 2, 3], [4, 5, 6]]\n",
    "print(my_list) # [[1, 2, 3], [4, 5, 6]]\n",
    "print(my_list[1][1]) # 5   // [n]번째 리스트의 [n]번째 인덱싱\n",
    "\n",
    "# ndarray\n",
    "arr = np.array([[1, 2, 3], [4, 5, 6]])\n",
    "print(arr)        # [[1 2 3]\n",
    "                   #[4 5 6]]\n",
    "print(arr[1, 1]) # 5   // arr[행, 열]\n",
    "print(arr[1])    # [4 5 6]   // arr[행]\n",
    "\n",
    "print(arr.dtype) # int32 (Numpy가 알아서 dtype 설정)\n",
    "# => ndarray는 요소의 데이터타입을 이용해서 dtype을 설정\n",
    "\n",
    "# 고론데! 데이터 타입을 내가 정해줄 수 있음!\n",
    "# 데이터 타입을 지정해서 ndarray 생성하기\n",
    "arr2 = np.array([[1, 2, 3,], [4, 5, 6]],\n",
    "                dtype=np.float64)\n",
    "\n",
    "print(arr2) # [[1. 2. 3.]\n",
    "             # [4. 5. 6.]]\n",
    "print(arr2.dtype) # float64"
   ]
  },
  {
   "cell_type": "code",
   "execution_count": 25,
   "id": "4f2c05ea",
   "metadata": {},
   "outputs": [
    {
     "name": "stdout",
     "output_type": "stream",
     "text": [
      "[1 2 3 4]\n",
      "int32\n",
      "1\n",
      "(4,)\n",
      "[[1 2 3]\n",
      " [4 5 6]]\n",
      "2\n",
      "(2, 3)\n",
      "(2, 2, 3)\n"
     ]
    }
   ],
   "source": [
    "# ndarray의 차원 관련 속성\n",
    "my_list = [1, 2, 3, 4]\n",
    "arr = np.array(my_list)\n",
    "print(arr) # [1 2 3 4]\n",
    "print(arr.dtype) # ndarray의 data type : int32\n",
    "print(arr.ndim) # ndim : 차원수를 숫자로 알려줌 => 1\n",
    "print(arr.shape) # shape은 차원과 요소수를 tupple로 알려줌 => (4,) => 1차원이고 4개의 요소가 있음\n",
    "\n",
    "\n",
    "my_list2 = [[1, 2, 3], [4, 5, 6]]\n",
    "arr2 = np.array(my_list2)\n",
    "print(arr2)\n",
    "print(arr2.ndim) # 2\n",
    "print(arr2.shape) # (2, 3) => 2행 3열\n",
    "\n",
    "\n",
    "# (2,2,3) 형태의 ndarray\n",
    "my_list3 = [[[1,2,3],\n",
    "             [1,2,3]],\n",
    "            [[1,2,3], \n",
    "             [1,2,3]]]\n",
    "arr3 = np.array(my_list3)\n",
    "print(arr3.shape) # (2면, 2행, 3열)"
   ]
  },
  {
   "cell_type": "code",
   "execution_count": 33,
   "id": "0aca0656",
   "metadata": {},
   "outputs": [
    {
     "name": "stdout",
     "output_type": "stream",
     "text": [
      "float64\n",
      "int32\n",
      "[1 2 3 4 5]\n",
      "['1.2' '2.3' '3.0' '4.0' '5.7']\n"
     ]
    }
   ],
   "source": [
    "# ndarray의 typ을 변환\n",
    "arr = np.array([1.2, 2.3, 3, 4, 5.7])\n",
    "print(arr.dtype) # float64\n",
    "\n",
    "new_arr = arr.astype(np.int32) # 정수로\n",
    "print(new_arr.dtype)\n",
    "print(new_arr) # [1 2 3 4 5]\n",
    "\n",
    "\n",
    "new_arr2 = arr.astype(np.str_) # 문자열로\n",
    "print(new_arr2) # ['1.2' '2.3' '3.0' '4.0' '5.7']"
   ]
  },
  {
   "cell_type": "code",
   "execution_count": 42,
   "id": "702b3a22",
   "metadata": {},
   "outputs": [
    {
     "name": "stdout",
     "output_type": "stream",
     "text": [
      "[[0. 0. 0. 0.]\n",
      " [0. 0. 0. 0.]\n",
      " [0. 0. 0. 0.]]\n",
      "[[1. 1. 1.]\n",
      " [1. 1. 1.]]\n",
      "[[[1. 1. 1.]\n",
      "  [1. 1. 1.]\n",
      "  [1. 1. 1.]]\n",
      "\n",
      " [[1. 1. 1.]\n",
      "  [1. 1. 1.]\n",
      "  [1. 1. 1.]]]\n",
      "[[7. 7. 7.]\n",
      " [7. 7. 7.]]\n"
     ]
    }
   ],
   "source": [
    "# ndarray를 만드는 다양한 함수\n",
    "\n",
    "# 1. array\n",
    "#    list를 이용해서 ndarray 생성\n",
    "my_list = [1, 2, 3]\n",
    "arr = np.array(my_list) \n",
    "\n",
    "# 2. zeros\n",
    "arr2 = np.zeros((3,4)) # shape은 tuple로 표현함\n",
    "print(arr2)            # 0으로 채워진 3행 4열의 행렬을 만듬\n",
    "\n",
    "# 3. ones\n",
    "arr3 = np.ones((2,3)) # shape은 tuple로 표현함\n",
    "print(arr3)           # 1로 채워진 2행 3열의 행렬을 만듬\n",
    "\n",
    "# 4. empty\n",
    "arr4 = np.empty((2,3,3)) # shape은 tuple로 표현함\n",
    "print(arr4)              # 주어진 shape에 대한 ndarray를 생성하고 값을 채우지 않는다.\n",
    "                         # 쓸모없는 값이 들어차있음\n",
    "                         # 상대적으로 ndarray를 빠르게 생성할 수 있음\n",
    "        \n",
    "# 5. full\n",
    "arr5 = np.full((2,3), # 2행 3열의\n",
    "               7,     # 7로 채워진\n",
    "               dtype=np.float64) # dtpy은 실수인 행렬 생성\n",
    "print(arr5)"
   ]
  },
  {
   "cell_type": "code",
   "execution_count": 44,
   "id": "4ee9b32b",
   "metadata": {},
   "outputs": [
    {
     "name": "stdout",
     "output_type": "stream",
     "text": [
      "[[1 2 3]\n",
      " [4 5 6]]\n",
      "[[0 0 0]\n",
      " [0 0 0]]\n"
     ]
    }
   ],
   "source": [
    "# shape을 직접 지정하지 않고\n",
    "# 다른 ndarray의 shape을 이용해서 ndarray를 생성\n",
    "arr = np.array([[1,2,3], [4,5,6]],\n",
    "               dtype=np.int32)\n",
    "print(arr)     # [[1 2 3]\n",
    "               #  [4 5 6]]\n",
    "\n",
    "# 6. _like() : ()와 똑같은 shape으로 생성\n",
    "new_arr = np.zeros_like(arr)\n",
    "print(new_arr)"
   ]
  },
  {
   "cell_type": "code",
   "execution_count": 48,
   "id": "7d1366ee",
   "metadata": {},
   "outputs": [
    {
     "name": "stdout",
     "output_type": "stream",
     "text": [
      "range(1, 10)\n",
      "[1 2 3 4 5 6 7 8 9]\n",
      "[1.3 3.3 5.3 7.3 9.3]\n"
     ]
    }
   ],
   "source": [
    "# python의 range\n",
    "a = range(1,10)\n",
    "print(a) # range(1, 10) => 값을 안가지고 있음!\n",
    "\n",
    "# 7. arange\n",
    "# numpy의 arange\n",
    "arr = np.arange(1,10) # 1부터 10까지 1씩 증가(10은 포함 안함!!)하는 \"값\"으로 구성된 ndarray\n",
    "print(arr) # [1 2 3 4 5 6 7 8 9] # 값을 가지고 있음!\n",
    "\n",
    "arr2 = np.arange(1.3, 10.1, 2)\n",
    "print(arr2) # [1.3 3.3 5.3 7.3 9.3]"
   ]
  },
  {
   "cell_type": "code",
   "execution_count": 53,
   "id": "e89964d4",
   "metadata": {},
   "outputs": [
    {
     "name": "stdout",
     "output_type": "stream",
     "text": [
      "[ 0.  1.  2.  3.  4.  5.  6.  7.  8.  9. 10.]\n",
      "[ 0.  2.  4.  6.  8. 10.]\n",
      "[ 0.  5. 10.]\n",
      "[  0.   4.   8.  12.  16.  20.  24.  28.  32.  36.  40.  44.  48.  52.\n",
      "  56.  60.  64.  68.  72.  76.  80.  84.  88.  92.  96. 100. 104. 108.\n",
      " 112. 116. 120.]\n"
     ]
    }
   ],
   "source": [
    "# 8. linspace\n",
    "# np.linspace(start, stop, num)\n",
    "# start : 시작숫자, stop : 끝 숫자 ==> 둘 다 포함\n",
    "# num : 그 안에 균일한 간격으로 몇개의 숫자가 들어갈지 나타내는 숫자.\n",
    "# 균일한 간격의 데이터를 생성해서 ndarray를 만들어내는 함수\n",
    "# 원소의 간격 계산 : (stopp - start) / (num-1)\n",
    "\n",
    "arr = np.linspace(0,10,11) # 0에서 10까지 동일한 간격으로 11개의 숫자가 들어감\n",
    "print(arr)\n",
    "\n",
    "arr2 = np.linspace(0,10,6) # # 0에서 10까지 동일한 간격으로 6개의 숫자가 들어감\n",
    "print(arr2)\n",
    "\n",
    "arr3 = np.linspace(0,10,3) # # 0에서 10까지 동일한 간격으로 3개의 숫자가 들어감\n",
    "print(arr3)\n",
    "\n",
    "arr4 = np.linspace(0, 120, 31)\n",
    "print(arr4)"
   ]
  },
  {
   "cell_type": "markdown",
   "id": "047c2758",
   "metadata": {},
   "source": [
    "### 9. 랜덤값을 이용해서 ndarray 만들기"
   ]
  },
  {
   "cell_type": "code",
   "execution_count": 61,
   "id": "40c1ce7d",
   "metadata": {},
   "outputs": [
    {
     "name": "stdout",
     "output_type": "stream",
     "text": [
      "[50.58568504 49.9565277  49.51324875 ... 48.84690503 49.31538674\n",
      " 48.49360856]\n"
     ]
    },
    {
     "data": {
      "text/plain": [
       "<function matplotlib.pyplot.show(close=None, block=None)>"
      ]
     },
     "execution_count": 61,
     "metadata": {},
     "output_type": "execute_result"
    },
    {
     "data": {
      "image/png": "[encoded data removed]",
      "text/plain": [
       "<Figure size 432x288 with 1 Axes>"
      ]
     },
     "metadata": {
      "needs_background": "light"
     },
     "output_type": "display_data"
    }
   ],
   "source": [
    "# 9. 랜덤값을 이용해서 ndarray를 만듬\n",
    "\n",
    "# 9-1) np.random.normal() : ndarray를 만드는데, 데이터를 난수로 채움\n",
    "#                           정규분포에서 실수 표본을 추출\n",
    "#                           평균, 표준편차값이 필요함\n",
    "#                           일단 난수를 추출하고, 그 난수가 정규분포를 따르는지 확인\n",
    "\n",
    "import numpy as np\n",
    "\n",
    "# anaconda promptl => conda install matplotlib 모듈 설치해줘야함!\n",
    "import matplotlib.pyplot as plt\n",
    "\n",
    "mean = 50 # 평균 = 50\n",
    "std = 2   # 표준편차 = 2\n",
    "\n",
    "arr = np.random.normal(mean, std,\n",
    "                       (100000,))\n",
    "print(arr)\n",
    "plt.hist(arr, bins=100)\n",
    "plt.show"
   ]
  },
  {
   "cell_type": "code",
   "execution_count": 64,
   "id": "6020c38d",
   "metadata": {},
   "outputs": [
    {
     "name": "stdout",
     "output_type": "stream",
     "text": [
      "[0.68617505 0.03414372 0.31631907 ... 0.17220053 0.58884838 0.51308195]\n"
     ]
    },
    {
     "data": {
      "text/plain": [
       "<function matplotlib.pyplot.show(close=None, block=None)>"
      ]
     },
     "execution_count": 64,
     "metadata": {},
     "output_type": "execute_result"
    },
    {
     "data": {
      "image/png": "[encoded data removed]",
      "text/plain": [
       "<Figure size 432x288 with 1 Axes>"
      ]
     },
     "metadata": {
      "needs_background": "light"
     },
     "output_type": "display_data"
    }
   ],
   "source": [
    "# 9-2) np.random.rand() : ndarray를 만드는데, 데이터를 난수로 채움\n",
    "#                         [0,1) 0부터 1사이(0은 포함, 1은 불포함)의 실수형 난수를\n",
    "#                         균등분포에서 추출한 후 ndarray를 생성\n",
    "\n",
    "arr = np.random.rand(100000)\n",
    "print(arr)\n",
    "plt.hist(arr, bins=100)\n",
    "plt.show"
   ]
  },
  {
   "cell_type": "code",
   "execution_count": 58,
   "id": "7c4064a7",
   "metadata": {},
   "outputs": [
    {
     "data": {
      "image/png": "[encoded data removed]",
      "text/plain": [
       "<IPython.core.display.Image object>"
      ]
     },
     "execution_count": 58,
     "metadata": {},
     "output_type": "execute_result"
    }
   ],
   "source": [
    "# 정규분포\n",
    "Image(\"numpy/정규분포.png\")"
   ]
  },
  {
   "cell_type": "code",
   "execution_count": 65,
   "id": "0e5fef17",
   "metadata": {},
   "outputs": [
    {
     "name": "stdout",
     "output_type": "stream",
     "text": [
      "[ 1.30910457 -0.90286947 -0.58464584 ... -0.4697988  -0.61998481\n",
      "  0.58520878]\n"
     ]
    },
    {
     "data": {
      "text/plain": [
       "<function matplotlib.pyplot.show(close=None, block=None)>"
      ]
     },
     "execution_count": 65,
     "metadata": {},
     "output_type": "execute_result"
    },
    {
     "data": {
      "image/png": "[encoded data removed]",
      "text/plain": [
       "<Figure size 432x288 with 1 Axes>"
      ]
     },
     "metadata": {
      "needs_background": "light"
     },
     "output_type": "display_data"
    }
   ],
   "source": [
    "# 9-3) np.random.randn() : ndarray를 만드는데, 데이터를 난수로 채움\n",
    "#                          표준정규분포에서 난수 추출\n",
    "#                          * 표준정규분포 : 정규분포에서 평균이 0이고, 표준편차가 1인 정규분포\n",
    "# np.random.rand(d1, d2, d3) 로 사용\n",
    "\n",
    "arr = np.random.randn(100000)\n",
    "print(arr)\n",
    "plt.hist(arr, bins=100)\n",
    "plt.show"
   ]
  },
  {
   "cell_type": "code",
   "execution_count": 70,
   "id": "c238f95c",
   "metadata": {},
   "outputs": [
    {
     "name": "stdout",
     "output_type": "stream",
     "text": [
      "[76 63 39 ... 57 89 99]\n"
     ]
    },
    {
     "data": {
      "text/plain": [
       "<function matplotlib.pyplot.show(close=None, block=None)>"
      ]
     },
     "execution_count": 70,
     "metadata": {},
     "output_type": "execute_result"
    },
    {
     "data": {
      "image/png": "[encoded data removed]",
      "text/plain": [
       "<Figure size 432x288 with 1 Axes>"
      ]
     },
     "metadata": {
      "needs_background": "light"
     },
     "output_type": "display_data"
    }
   ],
   "source": [
    "# 9-4) np.random.randint() : ndarray를 만드는데, 데이터를 난수로 채움\n",
    "#                            균등분포에서 정수형 난수를 추출. low와 high값을 줘야함\n",
    "\n",
    "arr = np.random.randint(1, 100, (100000, )) # (low, high, (1차원이고 10만개 요소를 가진 ndarray))\n",
    "print(arr)\n",
    "plt.hist(arr, bins=99)\n",
    "plt.show"
   ]
  },
  {
   "cell_type": "code",
   "execution_count": 72,
   "id": "8de881c7",
   "metadata": {},
   "outputs": [
    {
     "name": "stdout",
     "output_type": "stream",
     "text": [
      "[0.26616371 0.9830691  0.0325608  ... 0.52549043 0.08209855 0.4010501 ]\n"
     ]
    },
    {
     "data": {
      "text/plain": [
       "<function matplotlib.pyplot.show(close=None, block=None)>"
      ]
     },
     "execution_count": 72,
     "metadata": {},
     "output_type": "execute_result"
    },
    {
     "data": {
      "image/png": "[encoded data removed]",
      "text/plain": [
       "<Figure size 432x288 with 1 Axes>"
      ]
     },
     "metadata": {
      "needs_background": "light"
     },
     "output_type": "display_data"
    }
   ],
   "source": [
    "# 9-5) np.random.random() : ndarray를 만드는데, 데이터를 난수로 채움\n",
    "#                           균등분포에서 실수형 난수를 추출.\n",
    "#                           [0, 1) 사이에서 난수를 추출\n",
    "# np.random.random((10000,))\n",
    "\n",
    "arr = np.random.random((100000,))\n",
    "print(arr)\n",
    "plt.hist(arr, bins=100)\n",
    "plt.show"
   ]
  },
  {
   "cell_type": "markdown",
   "id": "b5e14558",
   "metadata": {},
   "source": [
    "## 기억해야 하는 random관련 함수들"
   ]
  },
  {
   "cell_type": "code",
   "execution_count": 81,
   "id": "4f934dc5",
   "metadata": {},
   "outputs": [
    {
     "name": "stdout",
     "output_type": "stream",
     "text": [
      "[6 9 6 1 1]\n"
     ]
    }
   ],
   "source": [
    "# 1. seed()\n",
    "# seed => 초기값 // 랜덤값을 도출하는 초기값을 고정해줌\n",
    "# ==> 난수의 재현성을 확보\n",
    "\n",
    "np.random.seed(1)\n",
    "arr = np.random.randint(1, 10, (5,))\n",
    "#arr = np.random.randint(1, 10, (5,))\n",
    "# => 균등 분포에서 정수형 난수를 추출. (low, hight, shape())\n",
    "# => 여기서 shape은 (5,)로 줬음 => 1행이고 5개의 요소를 가지고 있다!\n",
    "print(arr)"
   ]
  },
  {
   "cell_type": "code",
   "execution_count": 94,
   "id": "e7fd170d",
   "metadata": {},
   "outputs": [
    {
     "name": "stdout",
     "output_type": "stream",
     "text": [
      "[1 2 3 4 5 6 7 8 9]\n",
      "None\n",
      "[5 8 1 9 4 6 2 7 3]\n"
     ]
    }
   ],
   "source": [
    "# 2. shuffle()\n",
    "# shuffle => 데이터의 순서를 바꿈\n",
    "# shuffle 은 원본이 바뀜. 복사본은 만들지 않음\n",
    "arr = np.arange(1,10)\n",
    "print(arr)\n",
    "\n",
    "new_arr = np.random.shuffle(arr)\n",
    "print(new_arr) # None // 그래서 None값을 뱉어냄!\n",
    "\n",
    "np.random.shuffle(arr)\n",
    "print(arr)"
   ]
  },
  {
   "cell_type": "code",
   "execution_count": 107,
   "id": "580c2c8c",
   "metadata": {},
   "outputs": [
    {
     "name": "stdout",
     "output_type": "stream",
     "text": [
      "[1 3 2]\n",
      "[3 4 5]\n",
      "[3 3 4]\n"
     ]
    }
   ],
   "source": [
    "# 3. choice()\n",
    "# np.random.choice(a, size, replace, p)\n",
    "# a        :  배열 (ndarray)\n",
    "# size     :  숫자 (몇개를 뽑을 거임)\n",
    "# replace  :  True  => 한번 뽑았던 것을 다시 뽑을 수 있음 // 기본적으로 True임\n",
    "#             False => 한번 뽑았던 것을 다시 뽑을 수 없음\n",
    "# p        :  확률 (각 데이터가 선택될 수 있는 확률)\n",
    "\n",
    "arr = np.random.choice(np.array([1,2,3,4,5]), 3)\n",
    "print(arr)\n",
    "\n",
    "arr2 = np.random.choice(np.array([1,2,3,4,5]), 3, replace=False)\n",
    "print(arr2)\n",
    "\n",
    "arr3 = np.random.choice(np.array([1,2,3,4,5]), 3, p=[0.1, 0.2, 0.2, 0.3, 0.2])\n",
    "print(arr3)"
   ]
  },
  {
   "cell_type": "code",
   "execution_count": null,
   "id": "888daac5",
   "metadata": {},
   "outputs": [],
   "source": [
    "# ndarray 특징, 속성(shape)\n",
    "\n",
    "# ndarray 생성\n",
    "# 1) np.array([1,2,3]) : list를 이용한 ndarray 생성\n",
    "# 2) np.ones(), np.zeros(), ... : 다양한 생성 함수\n",
    "# 3) np.arange(), np.linspace() : 다양한 생성 함수\n",
    "# 4) np.random.normal() ... : 총 5가지의 random값을 이용한 ndarray 생성 함수\n",
    "\n",
    "# 기억해야할 random 관련 함수\n",
    "# 1) np.random.seed()\n",
    "# 2) np.random.shuffle()\n",
    "# 1) np.random.choice()"
   ]
  },
  {
   "cell_type": "code",
   "execution_count": 122,
   "id": "498d52d1",
   "metadata": {},
   "outputs": [
    {
     "name": "stdout",
     "output_type": "stream",
     "text": [
      "[[ 1  2  3  4  5  6]\n",
      " [ 7  8  9 10 11 12]]\n",
      "(2, 6)\n",
      "[[ 1  2  3  4]\n",
      " [ 5  6  7  8]\n",
      " [ 9 10 11 12]]\n",
      "[[100   2   3   4]\n",
      " [  5   6   7   8]\n",
      " [  9  10  11  12]]\n",
      "[[100   2   3   4   5   6]\n",
      " [  7   8   9  10  11  12]]\n",
      "[[50  2  3  4]\n",
      " [ 5  6  7  8]\n",
      " [ 9 10 11 12]]\n",
      "[[100   2   3   4   5   6]\n",
      " [  7   8   9  10  11  12]]\n"
     ]
    }
   ],
   "source": [
    "# ndarray의 shape과 관련된 중요한 함수들!\n",
    "# reshape(), revel(), resize()\n",
    "\n",
    "# 1) reshape() : 내가 원하는 shape의 view를 만들 수 있음 // 요소의 수가 동일해야함!\n",
    "arr = np.array([[1,2,3,4,5,6], [7,8,9,10,11,12]])\n",
    "print(arr)         # 2차원의 ndarray\n",
    "print(arr.shape)   # (2,6) // 2행 6열!\n",
    "# [[ 1  2  3  4  5  6]\n",
    "#  [ 7  8  9 10 11 12]]\n",
    "\n",
    "new_arr = arr.reshape(3,4) # 3행 4열로 reshape!\n",
    "print(new_arr)\n",
    "# [[ 1  2  3  4]\n",
    "#  [ 5  6  7  8]\n",
    "#  [ 9 10 11 12]]\n",
    "\n",
    "new_arr[0,0] = 100 # 0행 0열을 100으로!\n",
    "print(new_arr)\n",
    "print(arr) # ????? 뭐임?? 나는 new_arr을 바꿨는디, 왜 arr도 바뀌어있음?? 뭐임? 뭐함??\n",
    "# => reshape() : shape을 바꿔서 새로운 ndarray를 만드는게 아님! 잘 들어보셈\n",
    "#                요고슨 shape을 바꿔서 원래 ndarray에 데이터를 다르게 보여주는 view를 생성함\n",
    "#                뭔 소리인지 알간?\n",
    "#                reshape은 새로운 ndarray를 만드는게 아니고!! \"모양\"만 다르게 보여주는 거라는 거임!!\n",
    "#                데이터는 단 1개라는 것이지! 그래서 new_arr에서 데이터를 바꿔버리면\n",
    "#                원본 데이터를 바꾸는 것임\n",
    "\n",
    "\n",
    "# 모양을 바꿔서 새로운 ndarray를 생성하고 싶으면 copy()를 이용해야함\n",
    "new_arr2 = arr.reshape(3,4).copy()\n",
    "new_arr2[0,0] = 50\n",
    "print(new_arr2)\n",
    "# [[50  2  3  4]\n",
    "#  [ 5  6  7  8]\n",
    "#  [ 9 10 11 12]]\n",
    "print(arr)\n",
    "# [[100   2   3   4   5   6]\n",
    "#  [  7   8   9  10  11  12]]\n",
    "# 음 이제야 편-안"
   ]
  },
  {
   "cell_type": "code",
   "execution_count": 123,
   "id": "b746245d",
   "metadata": {},
   "outputs": [
    {
     "name": "stdout",
     "output_type": "stream",
     "text": [
      "[[ 1  2  3  4  5  6]\n",
      " [ 7  8  9 10 11 12]]\n",
      "(2, 6)\n",
      "[ 1  2  3  4  5  6  7  8  9 10 11 12]\n"
     ]
    }
   ],
   "source": [
    "# 2) revel() : 무조건 1차원의 view를 만듬\n",
    "arr = np.array([[1,2,3,4,5,6], [7,8,9,10,11,12]])\n",
    "print(arr)         # 2차원의 ndarray\n",
    "print(arr.shape)   # (2,6) // 2행 6열!\n",
    "\n",
    "new_arr = arr.ravel() # 1차원으로 view를 생성\n",
    "print(new_arr)"
   ]
  },
  {
   "cell_type": "code",
   "execution_count": 126,
   "id": "7b907424",
   "metadata": {},
   "outputs": [
    {
     "name": "stdout",
     "output_type": "stream",
     "text": [
      "[[ 1  2  3  4  5  6]\n",
      " [ 7  8  9 10 11 12]]\n",
      "(2, 6)\n",
      "None\n",
      "[[ 1  2  3  4  5]\n",
      " [ 6  7  8  9 10]\n",
      " [11 12  0  0  0]]\n",
      "[[1 2]\n",
      " [3 4]\n",
      " [5 6]]\n"
     ]
    }
   ],
   "source": [
    "# 3) resize() : 복사본을 만들지 않고, 원본을 변경.\n",
    "#               요소의 수가 같지 않아도 수행 가능.\n",
    "#                => 부족한 것은 0으로 채움 : 불필요한 데이터가 생기는 위험이 있음\n",
    "#                => 넘는 것은 삭제됨 : 데이터의 유실 위험이 있음\n",
    "\n",
    "arr = np.array([[1,2,3,4,5,6], [7,8,9,10,11,12]])\n",
    "print(arr)         # 2차원의 ndarray\n",
    "print(arr.shape)   # (2,6) // 2행 6열!\n",
    "\n",
    "new_arr = arr.resize(3,5)\n",
    "print(new_arr) # None => resize는 복사본을 만들지 않고, 원본을 변경해버림\n",
    "print(arr)\n",
    "# [[ 1  2  3  4  5]\n",
    "#  [ 6  7  8  9 10]\n",
    "#  [11 12  0  0  0]] => 부족한 부분은 0으로 채움\n",
    "\n",
    "arr = np.array([[1,2,3,4,5,6], [7,8,9,10,11,12]])\n",
    "arr.resize(3,2)\n",
    "print(arr)\n",
    "# [[1 2]\n",
    "#  [3 4]\n",
    "#  [5 6]] => 넘는 부분은 삭제"
   ]
  },
  {
   "cell_type": "markdown",
   "id": "f54a6f4e",
   "metadata": {},
   "source": [
    "## indexing, slicing"
   ]
  },
  {
   "cell_type": "code",
   "execution_count": 131,
   "id": "0944bfd6",
   "metadata": {},
   "outputs": [
    {
     "name": "stdout",
     "output_type": "stream",
     "text": [
      "[10 11 12 13 14]\n",
      "10\n",
      "[11 12]\n",
      "[11 12 13]\n"
     ]
    }
   ],
   "source": [
    "# 기본적인 index\n",
    "# 기본적인 slicing은 python의 list와 동일\n",
    "arr = np.arange(10,15,1)\n",
    "print(arr)       # [10 11 12 13 14]\n",
    "print(arr[0])    # 10\n",
    "print(arr[1:3])  # [11 12]\n",
    "print(arr[1:-1]) # [11 12 13]"
   ]
  },
  {
   "cell_type": "code",
   "execution_count": 136,
   "id": "22564ea0",
   "metadata": {},
   "outputs": [
    {
     "name": "stdout",
     "output_type": "stream",
     "text": [
      "[[ 0  1  2  3]\n",
      " [ 4  5  6  7]\n",
      " [ 8  9 10 11]]\n",
      "6\n",
      "[4 5 6 7]\n",
      "[4 5 6 7]\n",
      "[[ 6  7]\n",
      " [10 11]]\n"
     ]
    }
   ],
   "source": [
    "arr = np.arange(0,12).reshape(3,4)\n",
    "print(arr)\n",
    "print(arr[1,2])     # 6 // 1행 2번째열\n",
    "print(arr[1,])      # [4 5 6 7] // 1행\n",
    "print(arr[1,:])     # [4 5 6 7] // 1행, 모든열\n",
    "print(arr[1:,2:])   # [[ 6  7]  // 1행부터 끝까지, 2열부터 끝까지\n",
    "                    #  [10 11]]"
   ]
  },
  {
   "cell_type": "code",
   "execution_count": 151,
   "id": "ae2ed43b",
   "metadata": {},
   "outputs": [
    {
     "name": "stdout",
     "output_type": "stream",
     "text": [
      "[5 8 9 5 0 0 1 7 6 9]\n",
      "[15 18 19 15 10 10 11 17 16 19]\n",
      "[1 0 1 1 0 0 1 1 0 1]\n",
      "[False  True False False  True  True False False  True False]\n",
      "[8 0 0 6]\n",
      "[5 7 9]\n",
      "[5 6 7]\n"
     ]
    }
   ],
   "source": [
    "# Boolean Indexing & Fancy Indexing\n",
    "\n",
    "# Boolean Indexing\n",
    "# => indexing 방법 중 하나로, boolean mask를 이용해서 indexing하는 방법\n",
    "np.random.seed(1)\n",
    "arr = np.random.randint(0, 10, (10,))\n",
    "print(arr)          # [5 8 9 5 0 0 1 7 6 9]\n",
    "print(arr + 10)     # [15 18 19 15 10 10 11 17 16 19]\n",
    "\n",
    "# % : 나머지 값\n",
    "print(arr % 2)      # [1 0 1 1 0 0 1 1 0 1]\n",
    "\n",
    "# True, False로만 구성된 ndarray를 boolean mask라고 표현함\n",
    "print(arr % 2 == 0) # [0 0 0 0 0 0 0 0 0 0]\n",
    "                    # [False  True False False  True  True False False  True False]\n",
    "    \n",
    "my_mask = (arr % 2 == 0)\n",
    "# => boolean indexing은 boolean mask를 가지고 indexing하는 것을 의미한다.\n",
    "print(arr[my_mask]) # [8 0 0 6] => boolean 값이 True인 것만 가져옴\n",
    "\n",
    "# ndarray의 사칙연산 => +, -, *, /\n",
    "# ndarray는 같은 shape에 대해서만 연산이 가능\n",
    "arr1 = np.array([1,2,3])\n",
    "arr2 = np.array([4,5,6])\n",
    "print(arr1 + arr2) # [5 7 9]\n",
    "\n",
    "# ndarray는 shape을 맞출 수 있으면 broadcasting이 진행된(차원을 맞춰줌)\n",
    "arr1 = np.array([1,2,3])\n",
    "print(arr1 + 4) # 4 => [4 4 4] broadcasting이 되어 차원이 맞춰짐! ㅇ0ㅇ"
   ]
  },
  {
   "cell_type": "code",
   "execution_count": 162,
   "id": "83424cd0",
   "metadata": {},
   "outputs": [
    {
     "name": "stdout",
     "output_type": "stream",
     "text": [
      "[1 2 3 4 5 6]\n",
      "4\n",
      "[4 5 6]\n",
      "[4 6]\n",
      "[[ 0  1  2  3]\n",
      " [ 4  5  6  7]\n",
      " [ 8  9 10 11]]\n",
      "[[1 2 3]\n",
      " [5 6 7]]\n",
      "[[1 3]\n",
      " [5 7]]\n",
      "[[ 1  3]\n",
      " [ 9 11]]\n"
     ]
    }
   ],
   "source": [
    "# Fancy Indexing\n",
    "# ndarray에 index 배열을 전달해서 indexing하는 방법\n",
    "\n",
    "arr = np.array([1,2,3,4,5,6])\n",
    "print(arr)\n",
    "print(arr[3]) # 4 => indexing\n",
    "print(arr[3:]) # [4 5 6] => slicing\n",
    "print(arr[[3, 5]]) # [4 6] => Fancy Indexing\n",
    "\n",
    "\n",
    "arr = np.arange(0, 12, 1).reshape(3,4)\n",
    "print(arr)\n",
    "print(arr[0:2, 1:])     #  [[1 2 3]\n",
    "                        #   [5 6 7]]\n",
    "    \n",
    "print(arr[0:2, [1,3]])  #  [[1 3]\n",
    "                        #   [5 7]]\n",
    "    \n",
    "# np.ix_ 함수\n",
    "print(arr[np.ix_([0,2], [1,3])])"
   ]
  },
  {
   "cell_type": "code",
   "execution_count": null,
   "id": "638828f4",
   "metadata": {},
   "outputs": [],
   "source": []
  }
 ],
 "metadata": {
  "kernelspec": {
   "display_name": "Python [conda env:machine]",
   "language": "python",
   "name": "conda-env-machine-py"
  },
  "language_info": {
   "codemirror_mode": {
    "name": "ipython",
    "version": 3
   },
   "file_extension": ".py",
   "mimetype": "text/x-python",
   "name": "python",
   "nbconvert_exporter": "python",
   "pygments_lexer": "ipython3",
   "version": "3.8.12"
  }
 },
 "nbformat": 4,
 "nbformat_minor": 5
}
