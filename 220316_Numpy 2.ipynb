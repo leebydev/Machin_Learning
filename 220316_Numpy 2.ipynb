{
 "cells": [
  {
   "cell_type": "markdown",
   "id": "ce56b2f1",
   "metadata": {},
   "source": [
    "### 220315_Numpy 배운 내용!\n",
    "1. Numpy module\n",
    "2. 다차원배열, 2차원 matrix 연산을 쉽고 빠르게 하기 위해서 사용\n",
    "3. ndarray\n",
    "4. ndarray의 특징, 속성\n",
    "5. ndarray의 생성방법 -> 난수 관련된 것은 외우자!\n",
    "6. random관련된 생성방법과 특수한 기능들(메소드들)\n",
    "7. indexing, slicing => 자유자재로 다룰 수 있도록 해야함!\n",
    "   <br>=> boolean indexing, fancy indexing 은 꼭 기억하도록!"
   ]
  },
  {
   "cell_type": "markdown",
   "id": "18b42b18",
   "metadata": {},
   "source": [
    "# 220316_ Numpy를 이어서 배워보자"
   ]
  },
  {
   "cell_type": "code",
   "execution_count": 7,
   "id": "e406866d",
   "metadata": {},
   "outputs": [
    {
     "name": "stdout",
     "output_type": "stream",
     "text": [
      "[5 7 9]\n",
      "[2 3 4 5]\n",
      "[[ 40  46]\n",
      " [ 94 109]]\n"
     ]
    }
   ],
   "source": [
    "# ndarray의 사칙연산(일반적인 연산)\n",
    "# ndarray의 shape이 같아야함\n",
    "\n",
    "import numpy as np\n",
    "\n",
    "# shape이 같음\n",
    "arr1 = np.array([1,2,3]) # (3,)\n",
    "arr2 = np.array([4,5,6]) # (3,)\n",
    "print(arr1 + arr2)       # [5 7 9] // 같은 위치에 있는 것 끼리 연산이 됨!\n",
    "\n",
    "'''\n",
    "# shape이 다름\n",
    "arr1 = np.array([1,2,3,4]) # (4,)\n",
    "arr2 = np.array([4,5,6])   # (3,)\n",
    "print(arr1 + arr2)         # shape이 다르니까 오류임!\n",
    "'''\n",
    "\n",
    "# shape이 다를때도 shape을 맞출 수 있으면 연산이 가능\n",
    "#                  => broadcasting : 두 개의 ndarray의 shape을 똑같이 맞충\n",
    "arr1 = np.array([1,2,3,4]) # (4,)\n",
    "print(arr1 + 1)            # [2 3 4 5] // 1 => [1,1,1,1] broadcasting\n",
    "\n",
    "\n",
    "# 다양한 경우\n",
    "'''\n",
    "arr1 = np.array([1,2,3,4,5,6]) # (6,)\n",
    "arr2 = np.array([4,5,6])       # (3,)\n",
    "arr1 + arr2                    # shape이 다르니까 오류임!\n",
    "'''\n",
    "\n",
    "arr1 = np.array([[1,2,3],[4,5,6]]) # (2,3)\n",
    "arr2 = np.array([4,5,6])           # (3,) => 1차원이 2차원으로 broadcasting 되어 연산이 가능해짐\n",
    "arr1 + arr2                        # array([[ 5,  7,  9],\n",
    "                                   #        [ 8, 10, 12]])\n",
    "\n",
    "# 형렬곱연산(matrix 곱연산)\n",
    "arr1 = np.array([[1,2,3],[4,5,6]])     # (2,3)\n",
    "arr2 = np.array([[4,5], [6,7], [8,9]]) # (3,2) \n",
    "# 행렬곱 연산의 결과는 (2,2)\n",
    "print(np.matmul(arr1, arr2))           # [[ 40  46]\n",
    "                                       # [ 94 109]]"
   ]
  },
  {
   "cell_type": "code",
   "execution_count": 9,
   "id": "cf2d1cde",
   "metadata": {},
   "outputs": [
    {
     "name": "stdout",
     "output_type": "stream",
     "text": [
      "[[1 2 3]\n",
      " [4 5 6]]\n",
      "[[1 4]\n",
      " [2 5]\n",
      " [3 6]]\n"
     ]
    }
   ],
   "source": [
    "# 전치행렬(transpose)\n",
    "arr = np.array([[1,2,3], [4,5,6]])  # (2,3)\n",
    "print(arr)\n",
    "print(arr.T) # (3,2)"
   ]
  },
  {
   "cell_type": "code",
   "execution_count": 16,
   "id": "25d199b6",
   "metadata": {},
   "outputs": [
    {
     "name": "stdout",
     "output_type": "stream",
     "text": [
      "[1 2 3 4 5]\n",
      "1\n",
      "2\n",
      "3\n",
      "4\n",
      "5\n"
     ]
    }
   ],
   "source": [
    "# iterator(반복자)를 이용한 반복문 처리\n",
    "# 일반적으로 for문을 이용해서 반복처리를 하는데,\n",
    "# ndarray는 while문과 iterator를 이용해서 반복처리 하는 방식을 선호함\n",
    "\n",
    "arr = np.array([1,2,3,4,5]) # (5,)\n",
    "print(arr)\n",
    "\n",
    "# for문을 이용한 반복처리\n",
    "'''\n",
    "for tmp in arr:\n",
    "    print(tmp)\n",
    "'''\n",
    "\n",
    "# 1차원 ndarray에 대해서 iterator를 이용해 반복처리\n",
    "arr = np.array([1,2,3,4,5]) # (5,)\n",
    "\n",
    "# 1. iterator 객체를 하나 얻어옴\n",
    "# iterator 객체로부터 index를 추출할 수 있음\n",
    "my_iter = np.nditer(arr, flags=['c_index'])\n",
    "\n",
    "while not my_iter.finished:\n",
    "    idx = my_iter.index\n",
    "    print(arr[idx]) # 출력\n",
    "    my_iter.iternext()"
   ]
  },
  {
   "cell_type": "code",
   "execution_count": 21,
   "id": "ad8bf9ad",
   "metadata": {},
   "outputs": [
    {
     "name": "stdout",
     "output_type": "stream",
     "text": [
      "(0, 0)\n",
      "1\n",
      "(0, 1)\n",
      "2\n",
      "(0, 2)\n",
      "3\n",
      "(1, 0)\n",
      "4\n",
      "(1, 1)\n",
      "5\n",
      "(1, 2)\n",
      "6\n"
     ]
    }
   ],
   "source": [
    "# 2차원 ndarray에 대해서 iterator를 이용해 반복처리\n",
    "\n",
    "arr = np.array([[1,2,3], [4,5,6]]) #(2,3)\n",
    "'''\n",
    "for tmp1 in range(arr.shape[0]):\n",
    "    for tmp2 in range(arr.shape[1]):\n",
    "        print(arr[tmp1, tmp2])\n",
    "'''\n",
    "\n",
    "arr = np.array([[1,2,3], [4,5,6]]) #(2,3)\n",
    "\n",
    "my_iter = np.nditer(arr, flags=['multi_index'])\n",
    "\n",
    "while not my_iter.finished:\n",
    "    idx = my_iter.multi_index\n",
    "    print(idx)\n",
    "    print(arr[idx])\n",
    "    my_iter.iternext()"
   ]
  },
  {
   "cell_type": "markdown",
   "id": "bedd53a3",
   "metadata": {},
   "source": [
    "##### 다양한 집계함수와 axis개념"
   ]
  },
  {
   "cell_type": "code",
   "execution_count": 33,
   "id": "d0ace487",
   "metadata": {},
   "outputs": [
    {
     "name": "stdout",
     "output_type": "stream",
     "text": [
      "[[1 2 3]\n",
      " [4 5 6]]\n",
      "21\n",
      "21\n",
      "3.5\n",
      "6\n",
      "1\n",
      "5\n",
      "1.707825127659933\n",
      "[[1 2 3]\n",
      " [4 5 6]]\n",
      "21\n",
      "[5 7 9]\n",
      "[ 6 15]\n"
     ]
    }
   ],
   "source": [
    "# 다양한 집계함수와 axis개념\n",
    "arr = np.arange(1,7,1).reshape(2,3) # reshape(2,3) => 2행 3열 views를 보여줌!\n",
    "print(arr)    # [[1 2 3]\n",
    "              # [4 5 6]]\n",
    "\n",
    "# ndarray 데이터에 대한 합을 구할 수 있음\n",
    "print(np.sum(arr))  # 21   => Numpy가 제공하는 함수를 이용\n",
    "print(arr.sum())    # 21   => ndarray가 가지고 있는 메소드를 이용\n",
    "print(arr.mean())   # 3.5\n",
    "print(arr.max())    # 6\n",
    "print(arr.min())    # 1\n",
    "print(arr.argmax()) # 5  // 가장 큰 값이 어디있는지 인덱스 값을 알려줌\n",
    "print(arr.std())    # 1.707825127659933  // 표준편차\n",
    "\n",
    "\n",
    "# axis 개념(축)\n",
    "# numpy는 집계함수를 이용할 때 axis를 명시하지 않으면 전체를 대상으로 연산 수행\n",
    "arr = np.arange(1,7,1).reshape(2,3) # reshape(2,3) => 2행 3열 views를 보여줌!\n",
    "print(arr)    # [[1 2 3]\n",
    "              # [4 5 6]]\n",
    "    \n",
    "print(arr.sum())         # 21\n",
    "print(arr.sum(axis=0))   # [5 7 9]\n",
    "print(arr.sum(axis=1))   # [ 6 15]"
   ]
  },
  {
   "cell_type": "code",
   "execution_count": 48,
   "id": "9ac4cc06",
   "metadata": {},
   "outputs": [
    {
     "name": "stdout",
     "output_type": "stream",
     "text": [
      "[[ 1  2  3  4]\n",
      " [ 5  6  7  8]\n",
      " [ 9 10 11 12]\n",
      " [13 14 15 16]]\n",
      "[11 12 13 14 15 16]\n",
      "6\n"
     ]
    }
   ],
   "source": [
    "# 간단한 연습문제\n",
    "arr = np.arange(1,17,1).reshape(4,4)\n",
    "print(arr)\n",
    "\n",
    "# 이 안에 10보다 큰 수는 몇개 있나요?\n",
    "# boolean indexing 이용\n",
    "# 내 풀이\n",
    "tmp = (arr > 10)\n",
    "print(arr[tmp])\n",
    "(arr[tmp]).size\n",
    "\n",
    "# 선생님 풀이\n",
    "print((arr>10).sum())"
   ]
  },
  {
   "cell_type": "code",
   "execution_count": 49,
   "id": "3f242bdc",
   "metadata": {},
   "outputs": [],
   "source": [
    "# ndarray의 정렬, 연결, 삭제, csv파일 로딩\n",
    "# 일반적으로 ndarray로 이 작업들을 하지 않습니당!\n",
    "# pandas로 처리합니다!"
   ]
  },
  {
   "cell_type": "markdown",
   "id": "4b1dcc26",
   "metadata": {},
   "source": [
    "## Numpy는 여기까지! :D"
   ]
  }
 ],
 "metadata": {
  "kernelspec": {
   "display_name": "Python [conda env:machine] *",
   "language": "python",
   "name": "conda-env-machine-py"
  },
  "language_info": {
   "codemirror_mode": {
    "name": "ipython",
    "version": 3
   },
   "file_extension": ".py",
   "mimetype": "text/x-python",
   "name": "python",
   "nbconvert_exporter": "python",
   "pygments_lexer": "ipython3",
   "version": "3.8.12"
  }
 },
 "nbformat": 4,
 "nbformat_minor": 5
}
