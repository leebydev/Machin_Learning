{
 "cells": [
  {
   "cell_type": "markdown",
   "id": "5c751615",
   "metadata": {},
   "source": [
    "# Pandas\n",
    "**conda install pandas**"
   ]
  },
  {
   "cell_type": "markdown",
   "id": "9cbbff6f",
   "metadata": {},
   "source": [
    "##### Series\n",
    "* 1차원 자료구조\n",
    "* 같은 datatype만 저장 가능\n",
    "\n",
    "##### DataFrame\n",
    "* 2차원 자료구조\n",
    "* Series의 집합"
   ]
  },
  {
   "cell_type": "markdown",
   "id": "076555c8",
   "metadata": {},
   "source": [
    "### Series"
   ]
  },
  {
   "cell_type": "code",
   "execution_count": 1,
   "id": "4071109b",
   "metadata": {},
   "outputs": [],
   "source": [
    "import numpy as np\n",
    "import pandas as pd"
   ]
  },
  {
   "cell_type": "code",
   "execution_count": 10,
   "id": "e1e1ab7b",
   "metadata": {},
   "outputs": [
    {
     "name": "stdout",
     "output_type": "stream",
     "text": [
      "[1. 2. 3. 4. 5.]\n",
      "============================================================\n",
      "0    1.0\n",
      "1    2.0\n",
      "2    3.0\n",
      "3    4.0\n",
      "4    5.0\n",
      "dtype: float64\n",
      "[1. 2. 3. 4. 5.]\n",
      "RangeIndex(start=0, stop=5, step=1)\n",
      "float64\n"
     ]
    }
   ],
   "source": [
    "# ndarray\n",
    "arr = np.array([1,2,3,4,5], dtype=np.float64)\n",
    "print(arr)\n",
    "\n",
    "print(\"======\"*10)\n",
    "\n",
    "# Series\n",
    "s = pd.Series([1, 2, 3, 4, 5], dtype=np.float64)\n",
    "print(s) # index와 value가 같이 출력됨\n",
    "print(s.values) # [1. 2. 3. 4. 5.]    ndarray로 구성되어있음\n",
    "print(s.index)  # RangeIndex(start=0, stop=5, step=1)  => pandas의 객체\n",
    "print(s.dtype)  # float64   실수임!"
   ]
  },
  {
   "cell_type": "code",
   "execution_count": 14,
   "id": "22ca2e1d",
   "metadata": {},
   "outputs": [
    {
     "name": "stdout",
     "output_type": "stream",
     "text": [
      "a    1.0\n",
      "b    2.0\n",
      "c    3.0\n",
      "d    4.0\n",
      "e    5.0\n",
      "dtype: float64\n",
      "1.0\n",
      "1.0\n"
     ]
    }
   ],
   "source": [
    "s = pd.Series([1,2,3,4,5],\n",
    "              dtype=np.float64,\n",
    "              index=['a','b','c','d','e'])\n",
    "print(s)\n",
    "# => 인덱스를 지정해서 Series를 만들면 있었던 숫자 index는 어케됨..??????\n",
    "# 숫자 index는 그대로 사용 가능!! 내부에 숨어 있음~\n",
    "print(s[0])    # 숫자 index 0  =>  1.0\n",
    "print(s['a'])  # 지정 index a  =>  1.0\n",
    "\n",
    "# print(s[100])     # error   => 없는 index 여기서 찾지 마셈,,,, 오류 보낼거임,,\n",
    "# print(s['ppp'])   # error   => 없는 index 여기서 찾지 마셈,,,, 오류 보낼거임,,"
   ]
  },
  {
   "cell_type": "code",
   "execution_count": 15,
   "id": "8357e128",
   "metadata": {},
   "outputs": [
    {
     "name": "stdout",
     "output_type": "stream",
     "text": [
      "0      1.0\n",
      "2      2.0\n",
      "100    3.0\n",
      "6      4.0\n",
      "9      5.0\n",
      "dtype: float64\n"
     ]
    }
   ],
   "source": [
    "# 지정 index를 숫자로 사용하면 어떻게 될까?\n",
    "# 쓰지 마셈!\n",
    "s = pd.Series([1,2,3,4,5],\n",
    "              dtype=np.float64,\n",
    "              index=[0, 2, 100, 6, 9])\n",
    "print(s)\n",
    "print(s[0])  # 1.0\n",
    "# print(s[1])  # error"
   ]
  },
  {
   "cell_type": "code",
   "execution_count": 19,
   "id": "e2eb0ade",
   "metadata": {},
   "outputs": [
    {
     "name": "stdout",
     "output_type": "stream",
     "text": [
      "c    1.0\n",
      "b    2.0\n",
      "c    3.0\n",
      "k    4.0\n",
      "m    5.0\n",
      "dtype: float64\n",
      "c    1.0\n",
      "c    3.0\n",
      "dtype: float64\n"
     ]
    }
   ],
   "source": [
    "# 지정 index에 같은 index가 존재하면 어떻게 될까?\n",
    "# 올 이게 되네? => 같은 index로 되어 있는 것을 indexing하면 Series로 결과를 가져옴!\n",
    "# 그런데 이런짓은 하지마셈! index는 unique해야해...\n",
    "s = pd.Series([1,2,3,4,5],\n",
    "              dtype=np.float64,\n",
    "              index=['c','b','c','k','m'])\n",
    "print(s)\n",
    "print(s['c'])"
   ]
  },
  {
   "cell_type": "code",
   "execution_count": 22,
   "id": "cef1c932",
   "metadata": {},
   "outputs": [
    {
     "name": "stdout",
     "output_type": "stream",
     "text": [
      "c    1.0\n",
      "b    2.0\n",
      "a    3.0\n",
      "k    4.0\n",
      "m    5.0\n",
      "dtype: float64\n",
      "c    1.0\n",
      "b    2.0\n",
      "a    3.0\n",
      "dtype: float64\n",
      "c    1.0\n",
      "b    2.0\n",
      "a    3.0\n",
      "dtype: float64\n"
     ]
    }
   ],
   "source": [
    "# indexing, slicing\n",
    "# indexing은 ndarray나 list와 비슷함!\n",
    "# 그런데 slicing은 달라달라, 난 다른 애들과는 좀 달라~👍\n",
    "\n",
    "s = pd.Series([1,2,3,4,5],\n",
    "              dtype=np.float64,\n",
    "              index=['c','b','a','k','m'])\n",
    "print(s)\n",
    "print(s[0:3])  # 숫자 index를 이용한 slicing(ndarray, list와 동일)  s['포함':'불포함']\n",
    "print(s['c':'a']) # 지정 index를 이용한 slicing  s['포함':'포함']"
   ]
  },
  {
   "cell_type": "code",
   "execution_count": 24,
   "id": "4103affe",
   "metadata": {},
   "outputs": [
    {
     "name": "stdout",
     "output_type": "stream",
     "text": [
      "c    1.0\n",
      "b    2.0\n",
      "a    3.0\n",
      "k    4.0\n",
      "m    5.0\n",
      "dtype: float64\n",
      "b    2.0\n",
      "k    4.0\n",
      "dtype: float64\n",
      "c    1.0\n",
      "a    3.0\n",
      "dtype: float64\n"
     ]
    }
   ],
   "source": [
    "# boolean indexing, fancy indexing 적용 가능\n",
    "s = pd.Series([1,2,3,4,5],\n",
    "              dtype=np.float64,\n",
    "              index=['c','b','a','k','m'])\n",
    "print(s)\n",
    "# 짝수만 뽑아내는 boolean indexing\n",
    "print(s[s % 2 == 0])\n",
    "# fancy indexing\n",
    "print(s[[0,2]])"
   ]
  },
  {
   "cell_type": "code",
   "execution_count": 26,
   "id": "ca6e4c0b",
   "metadata": {},
   "outputs": [
    {
     "name": "stdout",
     "output_type": "stream",
     "text": [
      "서울    1000\n",
      "인천     500\n",
      "제주     200\n",
      "dtype: int64\n"
     ]
    }
   ],
   "source": [
    "# Series를 만드는 또 다른 방법\n",
    "# index를 key로, 저장하는 값을 value로 구성되는 자료구조\n",
    "'''\n",
    "s = pd.Series([1,2,3,4,5],\n",
    "              dtype=np.float64,\n",
    "              index=['c','b','a','k','m'])\n",
    "'''\n",
    "\n",
    "# dictionary를 이용해서 Series를 생성\n",
    "my_dict = {'서울': 1000,\n",
    "           '인천': 500,\n",
    "           '제주': 200}\n",
    "s = pd.Series(my_dict)\n",
    "print(s)"
   ]
  },
  {
   "cell_type": "code",
   "execution_count": 41,
   "id": "edf49290",
   "metadata": {
    "collapsed": true
   },
   "outputs": [
    {
     "name": "stdout",
     "output_type": "stream",
     "text": [
      "2020-01-01 00:00:00\n",
      "[49, 50, 51, 50, 57, 55, 49, 65, 41, 50]\n",
      "2020-01-01    49\n",
      "2020-01-02    50\n",
      "2020-01-03    51\n",
      "2020-01-04    50\n",
      "2020-01-05    57\n",
      "2020-01-06    55\n",
      "2020-01-07    49\n",
      "2020-01-08    65\n",
      "2020-01-09    41\n",
      "2020-01-10    50\n",
      "dtype: int64\n",
      "2020-01-01    73\n",
      "2020-01-02    77\n",
      "2020-01-03    69\n",
      "2020-01-04    64\n",
      "2020-01-05    72\n",
      "2020-01-06    56\n",
      "2020-01-07    68\n",
      "2020-01-08    63\n",
      "2020-01-09    59\n",
      "2020-01-10    73\n",
      "dtype: int64\n",
      "2020-01-01    122\n",
      "2020-01-02    127\n",
      "2020-01-03    120\n",
      "2020-01-04    114\n",
      "2020-01-05    129\n",
      "2020-01-06    111\n",
      "2020-01-07    117\n",
      "2020-01-08    128\n",
      "2020-01-09    100\n",
      "2020-01-10    123\n",
      "dtype: int64\n"
     ]
    }
   ],
   "source": [
    "# 연습문제!\n",
    "# A공장의 2020년 1월 1일부터 10일간 생산량을 Series로 저장\n",
    "# 생산량은 평균이 50이고 표준편차가 5인 정규분포에서 랜덤하게 생성(정수)\n",
    "# index => 날짜\n",
    "\n",
    "import numpy as np\n",
    "import pandas as pd\n",
    "from datetime import datetime, timedelta\n",
    "\n",
    "start_day = datetime(2020,1,1)\n",
    "print(start_day)\n",
    "\n",
    "# list comprehension => list 생성시 제어문(for, if)을 이용\n",
    "my_list = [int(x) for x in np.random.normal(50,5,(10,))]\n",
    "print(my_list)\n",
    "s1 = pd.Series(my_list,\n",
    "              index=[start_day + timedelta(days=x) for x in range(10)])\n",
    "print(s1)\n",
    "\n",
    "\n",
    "# B공장의 2020년 1월 1일부터 10일간 생산량을 Series로 저장\n",
    "# 생산량은 평균이 70이고 표준편차가 8인 정규분포에서 랜덤하게 생성(정수)\n",
    "start_day = datetime(2020,1,1)\n",
    "my_list = [int(x) for x in np.random.normal(70,8,(10,))]\n",
    "s2 = pd.Series(my_list,\n",
    "              index=[start_day + timedelta(days=x) for x in range(10)])\n",
    "print(s2)\n",
    "\n",
    "# 날짜별 생산량의 합\n",
    "print(s1 + s2)"
   ]
  },
  {
   "cell_type": "code",
   "execution_count": 43,
   "id": "73be5e1c",
   "metadata": {},
   "outputs": [
    {
     "name": "stdout",
     "output_type": "stream",
     "text": [
      "2020-01-05    79\n",
      "2020-01-06    82\n",
      "2020-01-07    70\n",
      "2020-01-08    61\n",
      "2020-01-09    64\n",
      "2020-01-10    73\n",
      "2020-01-11    75\n",
      "2020-01-12    69\n",
      "2020-01-13    65\n",
      "2020-01-14    80\n",
      "dtype: int64\n",
      "2020-01-01      NaN\n",
      "2020-01-02      NaN\n",
      "2020-01-03      NaN\n",
      "2020-01-04      NaN\n",
      "2020-01-05    130.0\n",
      "2020-01-06    132.0\n",
      "2020-01-07    111.0\n",
      "2020-01-08    119.0\n",
      "2020-01-09    105.0\n",
      "2020-01-10    124.0\n",
      "2020-01-11      NaN\n",
      "2020-01-12      NaN\n",
      "2020-01-13      NaN\n",
      "2020-01-14      NaN\n",
      "dtype: float64\n"
     ]
    }
   ],
   "source": [
    "# 연습문제 2\n",
    "# 날짜를 다르게 해서 생산량의 합을 구해봅시당\n",
    "\n",
    "# A공장의 2020년 1월 1일부터 10일간 생산량을 Series로 저장\n",
    "# 생산량은 평균이 50이고 표준편차가 5인 정규분포에서 랜덤하게 생성(정수)\n",
    "\n",
    "# B공장의 2020년 1월 5일부터 10일간 생산량을 Series로 저장\n",
    "# 생산량은 평균이 70이고 표준편차가 8인 정규분포에서 랜덤하게 생성(정수)\n",
    "\n",
    "start_day_A_factory = datetime(2020,1,1)\n",
    "start_day_B_factory = datetime(2020,1,5)\n",
    "\n",
    "\n",
    "my_list = [int(x) for x in np.random.normal(50,5,(10,))]\n",
    "s1 = pd.Series(my_list,\n",
    "              index=[start_day_A_factory + timedelta(days=x) for x in range(10)])\n",
    "\n",
    "my_list2 = [int(x) for x in np.random.normal(70,8,(10,))]\n",
    "s2 = pd.Series(my_list2,\n",
    "              index=[start_day_B_factory + timedelta(days=x) for x in range(10)])\n",
    "print(s2)\n",
    "\n",
    "# 날짜별 생산량의 합\n",
    "print(s1 + s2)"
   ]
  },
  {
   "cell_type": "markdown",
   "id": "0b31794c",
   "metadata": {},
   "source": [
    "## DataFrame\n",
    ": 2차원 matrix 구조, Series의 집합"
   ]
  },
  {
   "cell_type": "code",
   "execution_count": 52,
   "id": "84a43094",
   "metadata": {},
   "outputs": [
    {
     "data": {
      "text/html": [
       "<div>\n",
       "<style scoped>\n",
       "    .dataframe tbody tr th:only-of-type {\n",
       "        vertical-align: middle;\n",
       "    }\n",
       "\n",
       "    .dataframe tbody tr th {\n",
       "        vertical-align: top;\n",
       "    }\n",
       "\n",
       "    .dataframe thead th {\n",
       "        text-align: right;\n",
       "    }\n",
       "</style>\n",
       "<table border=\"1\" class=\"dataframe\">\n",
       "  <thead>\n",
       "    <tr style=\"text-align: right;\">\n",
       "      <th></th>\n",
       "      <th>이름</th>\n",
       "      <th>학년</th>\n",
       "      <th>학점</th>\n",
       "    </tr>\n",
       "  </thead>\n",
       "  <tbody>\n",
       "    <tr>\n",
       "      <th>0</th>\n",
       "      <td>홍길동</td>\n",
       "      <td>4</td>\n",
       "      <td>1.5</td>\n",
       "    </tr>\n",
       "    <tr>\n",
       "      <th>1</th>\n",
       "      <td>아이유</td>\n",
       "      <td>3</td>\n",
       "      <td>2.4</td>\n",
       "    </tr>\n",
       "    <tr>\n",
       "      <th>2</th>\n",
       "      <td>김연아</td>\n",
       "      <td>1</td>\n",
       "      <td>3.9</td>\n",
       "    </tr>\n",
       "    <tr>\n",
       "      <th>3</th>\n",
       "      <td>신사임당</td>\n",
       "      <td>2</td>\n",
       "      <td>4.5</td>\n",
       "    </tr>\n",
       "  </tbody>\n",
       "</table>\n",
       "</div>"
      ],
      "text/plain": [
       "     이름  학년   학점\n",
       "0   홍길동   4  1.5\n",
       "1   아이유   3  2.4\n",
       "2   김연아   1  3.9\n",
       "3  신사임당   2  4.5"
      ]
     },
     "metadata": {},
     "output_type": "display_data"
    },
    {
     "name": "stdout",
     "output_type": "stream",
     "text": [
      "(4, 3)\n",
      "[['홍길동' 4 1.5]\n",
      " ['아이유' 3 2.4]\n",
      " ['김연아' 1 3.9]\n",
      " ['신사임당' 2 4.5]]\n",
      "12\n",
      "2\n",
      "RangeIndex(start=0, stop=4, step=1)\n",
      "Index(['이름', '학년', '학점'], dtype='object')\n"
     ]
    },
    {
     "data": {
      "text/html": [
       "<div>\n",
       "<style scoped>\n",
       "    .dataframe tbody tr th:only-of-type {\n",
       "        vertical-align: middle;\n",
       "    }\n",
       "\n",
       "    .dataframe tbody tr th {\n",
       "        vertical-align: top;\n",
       "    }\n",
       "\n",
       "    .dataframe thead th {\n",
       "        text-align: right;\n",
       "    }\n",
       "</style>\n",
       "<table border=\"1\" class=\"dataframe\">\n",
       "  <thead>\n",
       "    <tr style=\"text-align: right;\">\n",
       "      <th>학생정보</th>\n",
       "      <th>이름</th>\n",
       "      <th>학년</th>\n",
       "      <th>학점</th>\n",
       "    </tr>\n",
       "    <tr>\n",
       "      <th>학번</th>\n",
       "      <th></th>\n",
       "      <th></th>\n",
       "      <th></th>\n",
       "    </tr>\n",
       "  </thead>\n",
       "  <tbody>\n",
       "    <tr>\n",
       "      <th>0</th>\n",
       "      <td>홍길동</td>\n",
       "      <td>4</td>\n",
       "      <td>1.5</td>\n",
       "    </tr>\n",
       "    <tr>\n",
       "      <th>1</th>\n",
       "      <td>아이유</td>\n",
       "      <td>3</td>\n",
       "      <td>2.4</td>\n",
       "    </tr>\n",
       "    <tr>\n",
       "      <th>2</th>\n",
       "      <td>김연아</td>\n",
       "      <td>1</td>\n",
       "      <td>3.9</td>\n",
       "    </tr>\n",
       "    <tr>\n",
       "      <th>3</th>\n",
       "      <td>신사임당</td>\n",
       "      <td>2</td>\n",
       "      <td>4.5</td>\n",
       "    </tr>\n",
       "  </tbody>\n",
       "</table>\n",
       "</div>"
      ],
      "text/plain": [
       "학생정보    이름  학년   학점\n",
       "학번                 \n",
       "0      홍길동   4  1.5\n",
       "1      아이유   3  2.4\n",
       "2      김연아   1  3.9\n",
       "3     신사임당   2  4.5"
      ]
     },
     "metadata": {},
     "output_type": "display_data"
    }
   ],
   "source": [
    "# DataFrame은 dictionary를 이용해서 만들면 편함~\n",
    "import numpy as np\n",
    "import pandas as pd\n",
    "my_dic = {'이름': ['홍길동','아이유','김연아','신사임당'],\n",
    "          '학년': [4, 3, 1, 2],\n",
    "          '학점': [1.5, 2.4, 3.9, 4.5]}\n",
    "\n",
    "df = pd.DataFrame(my_dic)\n",
    "display(df)\n",
    "\n",
    "# DataFrame의 기본 속성\n",
    "print(df.shape)  # (4,3)\n",
    "print(df.values) # 2차원 ndarray\n",
    "print(df.size)   # DataFrame안의 요소 개수 => 12\n",
    "print(df.ndim)   # 2\n",
    "print(df.index)  # 행 index, RangeIndex(start=0, stop=4, step=1)\n",
    "print(df.columns) # 열 index, Index(['이름', '학년', '학점'], dtype='object')\n",
    "\n",
    "df.index.name = '학번'\n",
    "df.columns.name = '학생정보'\n",
    "display(df)"
   ]
  },
  {
   "cell_type": "code",
   "execution_count": 57,
   "id": "42097312",
   "metadata": {},
   "outputs": [
    {
     "data": {
      "text/html": [
       "<div>\n",
       "<style scoped>\n",
       "    .dataframe tbody tr th:only-of-type {\n",
       "        vertical-align: middle;\n",
       "    }\n",
       "\n",
       "    .dataframe tbody tr th {\n",
       "        vertical-align: top;\n",
       "    }\n",
       "\n",
       "    .dataframe thead th {\n",
       "        text-align: right;\n",
       "    }\n",
       "</style>\n",
       "<table border=\"1\" class=\"dataframe\">\n",
       "  <thead>\n",
       "    <tr style=\"text-align: right;\">\n",
       "      <th></th>\n",
       "      <th>이름</th>\n",
       "      <th>학년</th>\n",
       "      <th>학점</th>\n",
       "    </tr>\n",
       "  </thead>\n",
       "  <tbody>\n",
       "    <tr>\n",
       "      <th>0</th>\n",
       "      <td>홍길동</td>\n",
       "      <td>4</td>\n",
       "      <td>1.5</td>\n",
       "    </tr>\n",
       "    <tr>\n",
       "      <th>1</th>\n",
       "      <td>아이유</td>\n",
       "      <td>3</td>\n",
       "      <td>2.4</td>\n",
       "    </tr>\n",
       "    <tr>\n",
       "      <th>2</th>\n",
       "      <td>김연아</td>\n",
       "      <td>1</td>\n",
       "      <td>3.9</td>\n",
       "    </tr>\n",
       "    <tr>\n",
       "      <th>3</th>\n",
       "      <td>신사임당</td>\n",
       "      <td>2</td>\n",
       "      <td>4.5</td>\n",
       "    </tr>\n",
       "  </tbody>\n",
       "</table>\n",
       "</div>"
      ],
      "text/plain": [
       "     이름  학년   학점\n",
       "0   홍길동   4  1.5\n",
       "1   아이유   3  2.4\n",
       "2   김연아   1  3.9\n",
       "3  신사임당   2  4.5"
      ]
     },
     "metadata": {},
     "output_type": "display_data"
    },
    {
     "data": {
      "text/html": [
       "<div>\n",
       "<style scoped>\n",
       "    .dataframe tbody tr th:only-of-type {\n",
       "        vertical-align: middle;\n",
       "    }\n",
       "\n",
       "    .dataframe tbody tr th {\n",
       "        vertical-align: top;\n",
       "    }\n",
       "\n",
       "    .dataframe thead th {\n",
       "        text-align: right;\n",
       "    }\n",
       "</style>\n",
       "<table border=\"1\" class=\"dataframe\">\n",
       "  <thead>\n",
       "    <tr style=\"text-align: right;\">\n",
       "      <th></th>\n",
       "      <th>학생이름</th>\n",
       "      <th>학년</th>\n",
       "      <th>평균평점</th>\n",
       "    </tr>\n",
       "  </thead>\n",
       "  <tbody>\n",
       "    <tr>\n",
       "      <th>one</th>\n",
       "      <td>홍길동</td>\n",
       "      <td>4</td>\n",
       "      <td>1.5</td>\n",
       "    </tr>\n",
       "    <tr>\n",
       "      <th>1</th>\n",
       "      <td>아이유</td>\n",
       "      <td>3</td>\n",
       "      <td>2.4</td>\n",
       "    </tr>\n",
       "    <tr>\n",
       "      <th>2</th>\n",
       "      <td>김연아</td>\n",
       "      <td>1</td>\n",
       "      <td>3.9</td>\n",
       "    </tr>\n",
       "    <tr>\n",
       "      <th>3</th>\n",
       "      <td>신사임당</td>\n",
       "      <td>2</td>\n",
       "      <td>4.5</td>\n",
       "    </tr>\n",
       "  </tbody>\n",
       "</table>\n",
       "</div>"
      ],
      "text/plain": [
       "     학생이름  학년  평균평점\n",
       "one   홍길동   4   1.5\n",
       "1     아이유   3   2.4\n",
       "2     김연아   1   3.9\n",
       "3    신사임당   2   4.5"
      ]
     },
     "metadata": {},
     "output_type": "display_data"
    }
   ],
   "source": [
    "# DataFrame의 column명과 index명을 변경\n",
    "# rename()\n",
    "\n",
    "my_dic = {'이름': ['홍길동','아이유','김연아','신사임당'],\n",
    "          '학년': [4, 3, 1, 2],\n",
    "          '학점': [1.5, 2.4, 3.9, 4.5]}\n",
    "\n",
    "df = pd.DataFrame(my_dic)\n",
    "display(df)\n",
    "\n",
    "# inplace = True   =>  원본을 수정하고 복사본을 만들지 않음\n",
    "# inplace = False   =>  원본은 두고 복사본을 만듬\n",
    "new_df = df.rename(columns = {'이름':'학생이름',\n",
    "                              '학점':'평균평점'},\n",
    "                   index={0:'one'},\n",
    "                   inplace=False)\n",
    "display(new_df)"
   ]
  },
  {
   "cell_type": "code",
   "execution_count": 58,
   "id": "bffc1914",
   "metadata": {},
   "outputs": [
    {
     "data": {
      "text/html": [
       "<div>\n",
       "<style scoped>\n",
       "    .dataframe tbody tr th:only-of-type {\n",
       "        vertical-align: middle;\n",
       "    }\n",
       "\n",
       "    .dataframe tbody tr th {\n",
       "        vertical-align: top;\n",
       "    }\n",
       "\n",
       "    .dataframe thead th {\n",
       "        text-align: right;\n",
       "    }\n",
       "</style>\n",
       "<table border=\"1\" class=\"dataframe\">\n",
       "  <thead>\n",
       "    <tr style=\"text-align: right;\">\n",
       "      <th></th>\n",
       "      <th>이름</th>\n",
       "      <th>학년</th>\n",
       "      <th>학점</th>\n",
       "    </tr>\n",
       "  </thead>\n",
       "  <tbody>\n",
       "    <tr>\n",
       "      <th>0</th>\n",
       "      <td>홍길동</td>\n",
       "      <td>4</td>\n",
       "      <td>1.5</td>\n",
       "    </tr>\n",
       "    <tr>\n",
       "      <th>1</th>\n",
       "      <td>아이유</td>\n",
       "      <td>3</td>\n",
       "      <td>2.4</td>\n",
       "    </tr>\n",
       "    <tr>\n",
       "      <th>2</th>\n",
       "      <td>김연아</td>\n",
       "      <td>1</td>\n",
       "      <td>3.9</td>\n",
       "    </tr>\n",
       "    <tr>\n",
       "      <th>3</th>\n",
       "      <td>신사임당</td>\n",
       "      <td>2</td>\n",
       "      <td>4.5</td>\n",
       "    </tr>\n",
       "  </tbody>\n",
       "</table>\n",
       "</div>"
      ],
      "text/plain": [
       "     이름  학년   학점\n",
       "0   홍길동   4  1.5\n",
       "1   아이유   3  2.4\n",
       "2   김연아   1  3.9\n",
       "3  신사임당   2  4.5"
      ]
     },
     "metadata": {},
     "output_type": "display_data"
    },
    {
     "data": {
      "text/html": [
       "<div>\n",
       "<style scoped>\n",
       "    .dataframe tbody tr th:only-of-type {\n",
       "        vertical-align: middle;\n",
       "    }\n",
       "\n",
       "    .dataframe tbody tr th {\n",
       "        vertical-align: top;\n",
       "    }\n",
       "\n",
       "    .dataframe thead th {\n",
       "        text-align: right;\n",
       "    }\n",
       "</style>\n",
       "<table border=\"1\" class=\"dataframe\">\n",
       "  <thead>\n",
       "    <tr style=\"text-align: right;\">\n",
       "      <th></th>\n",
       "      <th>학년</th>\n",
       "      <th>학점</th>\n",
       "    </tr>\n",
       "    <tr>\n",
       "      <th>이름</th>\n",
       "      <th></th>\n",
       "      <th></th>\n",
       "    </tr>\n",
       "  </thead>\n",
       "  <tbody>\n",
       "    <tr>\n",
       "      <th>홍길동</th>\n",
       "      <td>4</td>\n",
       "      <td>1.5</td>\n",
       "    </tr>\n",
       "    <tr>\n",
       "      <th>아이유</th>\n",
       "      <td>3</td>\n",
       "      <td>2.4</td>\n",
       "    </tr>\n",
       "    <tr>\n",
       "      <th>김연아</th>\n",
       "      <td>1</td>\n",
       "      <td>3.9</td>\n",
       "    </tr>\n",
       "    <tr>\n",
       "      <th>신사임당</th>\n",
       "      <td>2</td>\n",
       "      <td>4.5</td>\n",
       "    </tr>\n",
       "  </tbody>\n",
       "</table>\n",
       "</div>"
      ],
      "text/plain": [
       "      학년   학점\n",
       "이름           \n",
       "홍길동    4  1.5\n",
       "아이유    3  2.4\n",
       "김연아    1  3.9\n",
       "신사임당   2  4.5"
      ]
     },
     "metadata": {},
     "output_type": "display_data"
    }
   ],
   "source": [
    "# DataFrame의 특정 column을 index로 설정!\n",
    "# 이름 column을 index로 설정\n",
    "# set_index()\n",
    "my_dic = {'이름': ['홍길동','아이유','김연아','신사임당'],\n",
    "          '학년': [4, 3, 1, 2],\n",
    "          '학점': [1.5, 2.4, 3.9, 4.5]}\n",
    "\n",
    "df = pd.DataFrame(my_dic)\n",
    "display(df)\n",
    "\n",
    "new_df = df.set_index('이름', inplace=False)\n",
    "display(new_df)"
   ]
  },
  {
   "cell_type": "markdown",
   "id": "df8c6777",
   "metadata": {},
   "source": [
    "================================================================="
   ]
  },
  {
   "cell_type": "code",
   "execution_count": 61,
   "id": "abe3caa3",
   "metadata": {},
   "outputs": [
    {
     "data": {
      "text/html": [
       "<div>\n",
       "<style scoped>\n",
       "    .dataframe tbody tr th:only-of-type {\n",
       "        vertical-align: middle;\n",
       "    }\n",
       "\n",
       "    .dataframe tbody tr th {\n",
       "        vertical-align: top;\n",
       "    }\n",
       "\n",
       "    .dataframe thead th {\n",
       "        text-align: right;\n",
       "    }\n",
       "</style>\n",
       "<table border=\"1\" class=\"dataframe\">\n",
       "  <thead>\n",
       "    <tr style=\"text-align: right;\">\n",
       "      <th></th>\n",
       "      <th>이름</th>\n",
       "      <th>입학연도</th>\n",
       "      <th>성적</th>\n",
       "    </tr>\n",
       "  </thead>\n",
       "  <tbody>\n",
       "    <tr>\n",
       "      <th>0</th>\n",
       "      <td>아이유</td>\n",
       "      <td>2015</td>\n",
       "      <td>1.5</td>\n",
       "    </tr>\n",
       "    <tr>\n",
       "      <th>1</th>\n",
       "      <td>김연아</td>\n",
       "      <td>2016</td>\n",
       "      <td>2.0</td>\n",
       "    </tr>\n",
       "    <tr>\n",
       "      <th>2</th>\n",
       "      <td>홍길동</td>\n",
       "      <td>2015</td>\n",
       "      <td>3.1</td>\n",
       "    </tr>\n",
       "    <tr>\n",
       "      <th>3</th>\n",
       "      <td>강감찬</td>\n",
       "      <td>2017</td>\n",
       "      <td>1.1</td>\n",
       "    </tr>\n",
       "    <tr>\n",
       "      <th>4</th>\n",
       "      <td>이순신</td>\n",
       "      <td>2016</td>\n",
       "      <td>2.7</td>\n",
       "    </tr>\n",
       "  </tbody>\n",
       "</table>\n",
       "</div>"
      ],
      "text/plain": [
       "    이름  입학연도   성적\n",
       "0  아이유  2015  1.5\n",
       "1  김연아  2016  2.0\n",
       "2  홍길동  2015  3.1\n",
       "3  강감찬  2017  1.1\n",
       "4  이순신  2016  2.7"
      ]
     },
     "metadata": {},
     "output_type": "display_data"
    }
   ],
   "source": [
    "import numpy as np\n",
    "import pandas as pd\n",
    "\n",
    "df = pd.read_csv('data/student/student.csv')\n",
    "display(df)"
   ]
  },
  {
   "cell_type": "code",
   "execution_count": null,
   "id": "34bc9c20",
   "metadata": {},
   "outputs": [],
   "source": []
  }
 ],
 "metadata": {
  "kernelspec": {
   "display_name": "Python [conda env:machine] *",
   "language": "python",
   "name": "conda-env-machine-py"
  },
  "language_info": {
   "codemirror_mode": {
    "name": "ipython",
    "version": 3
   },
   "file_extension": ".py",
   "mimetype": "text/x-python",
   "name": "python",
   "nbconvert_exporter": "python",
   "pygments_lexer": "ipython3",
   "version": "3.8.12"
  }
 },
 "nbformat": 4,
 "nbformat_minor": 5
}
