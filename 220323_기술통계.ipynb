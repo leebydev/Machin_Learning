{
 "cells": [
  {
   "cell_type": "markdown",
   "id": "1a99c5b1",
   "metadata": {},
   "source": [
    "# 기술통계\n",
    "\n",
    "1. 1차원(1변수) 데이터의 수치지표/그래프 표현\n",
    "2. 2차원(2변수) 데이터의 수치지표/그래프 표현\n",
    "\n",
    "\n",
    "* 1차원(1변수)데이터의 수치지표<br>\n",
    "\n",
    ">\"대표값\" => 데이터를 하나의 값으로 요약한 지표  \n",
    "> 평균(많이 이용), 중위값, 최댓값, 최솟값  \n",
    "\n",
    "##### 평균(mean)\n",
    "* 평균 => 단점 : 이상치에 약함!!  \n",
    "* 절사평균으로 단점 보완!\n",
    "\n",
    "##### 중위값(median)\n",
    "* 중간에 있는 값\n",
    "* 홀수개 일때는 중간 값, 짝수개 일때는 중간 두개의 값의 평균을 사용\n",
    "\n",
    "##### 최빈값(mode)\n",
    "* 가장 많이 등장한 값  \n",
    "=> numpy는 없지만 pandas는 mode()함수를 가지고 있음!!"
   ]
  },
  {
   "cell_type": "markdown",
   "id": "c65f4537",
   "metadata": {},
   "source": [
    "##### 산포도(Dispersion)  \n",
    "=> 데이터가 얼마나, 어떻게 퍼져있는가  \n",
    "\n",
    "=> **데이터가 흩어져 있는 정도(변산성)** 를 수치로 표현하려면?  \n",
    "1. 범위(range)  \n",
    "2. 사분위(Inter Quatire Range)\n",
    "3. 편차(deviation)\n",
    "4. 분산(variance)\n",
    "5. 표준편차(Standard Deviation)\n",
    "<br>\n",
    "<br>\n",
    "* 편차 : 각 데이터가 평균으로부터 어느정도 떨어져있는가에 대한 지표  \n",
    "=> 구해봤더니!! 값이 여러개임! => 활용하기가 살짝 그시껭이함  \n",
    "=> 하나의 값을 만들고 싶어서 평균을 구했는데! ㅇ0ㅇ 0이 나오는거 아니겠음?!?!?  \n",
    "=> 표준편차의 평균은 0이다  \n",
    "=> 그렇다면 분산을 이용해봅시다!\n",
    "<br>\n",
    "<br>\n",
    "* 분산 : 편차의 제곱의 평균  \n",
    "=> Numpy와 Pandas가 구해지는 분산이 다름!  \n",
    "1. 표본분산 : n으로 나눔\n",
    "2. 불편분산 : n-1로 나눔  \n",
    "<br>\n",
    "<br>\n",
    "* 표준편차 : 분산의 제곱근"
   ]
  },
  {
   "cell_type": "markdown",
   "id": "221b04da",
   "metadata": {},
   "source": [
    "##### range(범위)\n",
    "Rg = Xmax - Xmin  \n",
    "=> range값이 크면 *산포도* 가 큼  \n",
    "=> range값이 크면 *산포도* 가 작음  \n",
    "\n",
    "<br>\n",
    "\n",
    "##### Interquatile range(사분위 범위)"
   ]
  },
  {
   "cell_type": "markdown",
   "id": "02c6006d",
   "metadata": {},
   "source": [
    "***"
   ]
  },
  {
   "cell_type": "code",
   "execution_count": 1,
   "id": "62b3b105",
   "metadata": {},
   "outputs": [],
   "source": [
    "import numpy as np\n",
    "import pandas as pd"
   ]
  },
  {
   "cell_type": "code",
   "execution_count": 10,
   "id": "49aa4890",
   "metadata": {},
   "outputs": [
    {
     "name": "stdout",
     "output_type": "stream",
     "text": [
      "(50, 2)\n"
     ]
    }
   ],
   "source": [
    "df = pd.read_csv('../data/student/student_scores_em.csv',\n",
    "                 index_col='student number')\n",
    "print(df.shape)   # (50, 2)\n",
    "#display(df.head())\n",
    "\n",
    "# 영어성적을 가지고 있는 Series 생성 (10개의 데이터만 이용)\n",
    "scores = df['english'][:10]\n",
    "#scores\n",
    "\n",
    "# 1변수(1차원)를 가지고 있는 DataFrame을 생성\n",
    "scores_df = pd.DataFrame(scores)\n",
    "#display(scores_df)"
   ]
  },
  {
   "cell_type": "code",
   "execution_count": 13,
   "id": "b04b06a3",
   "metadata": {},
   "outputs": [
    {
     "name": "stdout",
     "output_type": "stream",
     "text": [
      "55.0\n",
      "55.0\n",
      "english    55.0\n",
      "dtype: float64\n"
     ]
    }
   ],
   "source": [
    "# 평균(mean)\n",
    "print(scores.mean())     # 55.0   Series의 메소드를 이용\n",
    "print(np.mean(scores))   # 55.0   numpy의 mean 함수를 이용 \n",
    "print(scores_df.mean())  # 55.0   DataFrame의 메소드를 이용해서 구함 => 결과는 Series로 출력"
   ]
  },
  {
   "cell_type": "code",
   "execution_count": 14,
   "id": "c98a5bb4",
   "metadata": {},
   "outputs": [
    {
     "name": "stdout",
     "output_type": "stream",
     "text": [
      "56.5\n"
     ]
    }
   ],
   "source": [
    "# 중위값(median)\n",
    "print(np.median(scores)) # 56.5"
   ]
  },
  {
   "cell_type": "code",
   "execution_count": 15,
   "id": "5d3ce414",
   "metadata": {},
   "outputs": [
    {
     "name": "stdout",
     "output_type": "stream",
     "text": [
      "0    1\n",
      "dtype: int64\n"
     ]
    }
   ],
   "source": [
    "# 최빈값(mode)\n",
    "print(pd.Series([1, 1, 1, 2, 2, 3]).mode())"
   ]
  },
  {
   "cell_type": "code",
   "execution_count": 18,
   "id": "3f974bb8",
   "metadata": {
    "collapsed": true
   },
   "outputs": [
    {
     "name": "stdout",
     "output_type": "stream",
     "text": [
      "student number\n",
      "1    -13.0\n",
      "2     14.0\n",
      "3      1.0\n",
      "4    -14.0\n",
      "5      2.0\n",
      "6     -7.0\n",
      "7     10.0\n",
      "8     -6.0\n",
      "9     10.0\n",
      "10     3.0\n",
      "Name: english, dtype: float64\n",
      "0.0\n"
     ]
    }
   ],
   "source": [
    "# 편차(deviation)\n",
    "deviation = scores - np.mean(scores)\n",
    "print(deviation)\n",
    "print(deviation.mean()) # 편차의 평균은 당연히 0임"
   ]
  },
  {
   "cell_type": "code",
   "execution_count": 28,
   "id": "afc5747d",
   "metadata": {},
   "outputs": [
    {
     "name": "stdout",
     "output_type": "stream",
     "text": [
      "86.0\n",
      "86.0\n",
      "english    95.555556\n",
      "dtype: float64\n",
      "english    86.0\n",
      "dtype: float64\n"
     ]
    }
   ],
   "source": [
    "# 분산(variance)\n",
    "variance = np.mean(deviation ** 2)\n",
    "print(variance)  # 86.0\n",
    "\n",
    "## numpy로 구한 놈과 pandas로 구한 놈이 값이 다름!\n",
    "## 표본분산 / 불편분산 의 차이로 인한 거임\n",
    "## 통계학에서 기본으로 사용하는 분산은 불편분산이다~\n",
    "\n",
    "# Pandas => 불편분산\n",
    "# Numpy => 표본분산\n",
    "print(np.var(deviation))  # 86.0  numpy 함수 사용   =>  표본 분산\n",
    "print(scores_df.var()) # 95.555556  DataFrame 모든 column에 대해서 variance를 구함  => 불편 분산\n",
    "\n",
    "# Pandas는 기본적으로 불편분산인데, 표본분산도 구할 수 있음!\n",
    "## ddof=0  => 표본분산\n",
    "## ddof=0  => 불편분산\n",
    "print(scores_df.var(ddof=0))"
   ]
  },
  {
   "cell_type": "code",
   "execution_count": 30,
   "id": "0111a25b",
   "metadata": {},
   "outputs": [
    {
     "name": "stdout",
     "output_type": "stream",
     "text": [
      "9.273618495495704\n",
      "9.273618495495704\n"
     ]
    }
   ],
   "source": [
    "# 표준편차\n",
    "print(np.sqrt(np.var(scores))) # 9.273618495495704\n",
    "print(np.std(scores))  # 9.273618495495704"
   ]
  },
  {
   "cell_type": "code",
   "execution_count": 31,
   "id": "3153dedd",
   "metadata": {},
   "outputs": [
    {
     "name": "stdout",
     "output_type": "stream",
     "text": [
      "15.0\n"
     ]
    }
   ],
   "source": [
    "# IQR\n",
    "# 사분위 값을 구하는 Numpy 함수 사용\n",
    "Q1 = np.percentile(scores, 25)  # 1사분위\n",
    "Q2 = np.percentile(scores, 50)  # 2사분위 = 중위값 = median\n",
    "Q3 = np.percentile(scores, 75)  # 3사분위\n",
    "\n",
    "IQR = Q3 - Q1\n",
    "print(IQR)"
   ]
  },
  {
   "cell_type": "markdown",
   "id": "eb79ed8a",
   "metadata": {},
   "source": [
    "## 1차원(1변수) 데이터의 시각화\n",
    "=> 데이터의 분포상태를 그래프/표 로 표현\n",
    "\n",
    "* 도수분포표\n",
    ": 데이터 분포 상태를 도표로 확인  \n",
    "=> 데이터가 취하는 값을 몇개의 구간으로 나누고  \n",
    "각 구간에 몇개의 데이터가 들어가 있는지 셈\n",
    "\n",
    "\n",
    "> 0 ~ 10 점 => 구간 **class(계급)**  \n",
    "> 각 구간(class)에 속한 학생수 => **frequency(도수)**  \n",
    "> 구간의 폭(10점) => **class interval(계급의 크기)**  \n",
    "> **계급수(class의 개수)**\n",
    "\n",
    "> class(계급)\n",
    "> frequency(도수)\n",
    "> * class mask(계급값) => class를 값으로 표현 => 중위값(median)이용\n",
    "> * relative frequency(상대도수) -> 전체 데이터에 대해 해당 class의 도수가 얼마만큼의 비율을 차지하고 있는가\n",
    "> * cumulative relative frequency(누적상대도수) => 해당 class까지 상대도수의 누적"
   ]
  },
  {
   "cell_type": "code",
   "execution_count": 42,
   "id": "78a085fc",
   "metadata": {},
   "outputs": [
    {
     "data": {
      "text/html": [
       "<div>\n",
       "<style scoped>\n",
       "    .dataframe tbody tr th:only-of-type {\n",
       "        vertical-align: middle;\n",
       "    }\n",
       "\n",
       "    .dataframe tbody tr th {\n",
       "        vertical-align: top;\n",
       "    }\n",
       "\n",
       "    .dataframe thead th {\n",
       "        text-align: right;\n",
       "    }\n",
       "</style>\n",
       "<table border=\"1\" class=\"dataframe\">\n",
       "  <thead>\n",
       "    <tr style=\"text-align: right;\">\n",
       "      <th></th>\n",
       "      <th>Frequence</th>\n",
       "    </tr>\n",
       "  </thead>\n",
       "  <tbody>\n",
       "    <tr>\n",
       "      <th>0~10</th>\n",
       "      <td>0</td>\n",
       "    </tr>\n",
       "    <tr>\n",
       "      <th>10~20</th>\n",
       "      <td>0</td>\n",
       "    </tr>\n",
       "    <tr>\n",
       "      <th>20~30</th>\n",
       "      <td>0</td>\n",
       "    </tr>\n",
       "    <tr>\n",
       "      <th>30~40</th>\n",
       "      <td>2</td>\n",
       "    </tr>\n",
       "    <tr>\n",
       "      <th>40~50</th>\n",
       "      <td>8</td>\n",
       "    </tr>\n",
       "    <tr>\n",
       "      <th>50~60</th>\n",
       "      <td>16</td>\n",
       "    </tr>\n",
       "    <tr>\n",
       "      <th>60~70</th>\n",
       "      <td>18</td>\n",
       "    </tr>\n",
       "    <tr>\n",
       "      <th>70~80</th>\n",
       "      <td>6</td>\n",
       "    </tr>\n",
       "    <tr>\n",
       "      <th>80~90</th>\n",
       "      <td>0</td>\n",
       "    </tr>\n",
       "    <tr>\n",
       "      <th>90~100</th>\n",
       "      <td>0</td>\n",
       "    </tr>\n",
       "  </tbody>\n",
       "</table>\n",
       "</div>"
      ],
      "text/plain": [
       "        Frequence\n",
       "0~10            0\n",
       "10~20           0\n",
       "20~30           0\n",
       "30~40           2\n",
       "40~50           8\n",
       "50~60          16\n",
       "60~70          18\n",
       "70~80           6\n",
       "80~90           0\n",
       "90~100          0"
      ]
     },
     "metadata": {},
     "output_type": "display_data"
    }
   ],
   "source": [
    "df = pd.read_csv('../data/student/student_scores_em.csv',\n",
    "                 index_col='student number')\n",
    "#print(df.shape)   # (50, 2)\n",
    "#display(df.head())\n",
    "\n",
    "# 영어성적을 가지고 있는 ndarray 생성\n",
    "scores = df['english'].values\n",
    "#print(scores)\n",
    "\n",
    "# 특정 구간에 몇개의 데이터가 포함되는지 알려주는 Numpy 함수\n",
    "freq, tmp = np.histogram(scores, bins=10, range=(0,100))\n",
    "#print(tmp) # 경계값을 구할 수 있음\n",
    "#print(freq) # 각 bin안의 도수(frequency)\n",
    "\n",
    "# DataFrame으로 도수분포표를 표현\n",
    "# 행 index 만들기\n",
    "freq_class = [str(i) + '~' + str(i+10) for i in range(0,100,10)]\n",
    "#print(freq_class)\n",
    "\n",
    "freq_list_df = pd.DataFrame({'Frequence':freq},\n",
    "                            index=freq_class)\n",
    "display(freq_list_df)"
   ]
  },
  {
   "cell_type": "code",
   "execution_count": 46,
   "id": "5242789a",
   "metadata": {},
   "outputs": [
    {
     "data": {
      "text/html": [
       "<div>\n",
       "<style scoped>\n",
       "    .dataframe tbody tr th:only-of-type {\n",
       "        vertical-align: middle;\n",
       "    }\n",
       "\n",
       "    .dataframe tbody tr th {\n",
       "        vertical-align: top;\n",
       "    }\n",
       "\n",
       "    .dataframe thead th {\n",
       "        text-align: right;\n",
       "    }\n",
       "</style>\n",
       "<table border=\"1\" class=\"dataframe\">\n",
       "  <thead>\n",
       "    <tr style=\"text-align: right;\">\n",
       "      <th></th>\n",
       "      <th>Frequence</th>\n",
       "    </tr>\n",
       "  </thead>\n",
       "  <tbody>\n",
       "    <tr>\n",
       "      <th>0~10</th>\n",
       "      <td>0</td>\n",
       "    </tr>\n",
       "    <tr>\n",
       "      <th>10~20</th>\n",
       "      <td>0</td>\n",
       "    </tr>\n",
       "    <tr>\n",
       "      <th>20~30</th>\n",
       "      <td>0</td>\n",
       "    </tr>\n",
       "    <tr>\n",
       "      <th>30~40</th>\n",
       "      <td>2</td>\n",
       "    </tr>\n",
       "    <tr>\n",
       "      <th>40~50</th>\n",
       "      <td>8</td>\n",
       "    </tr>\n",
       "    <tr>\n",
       "      <th>50~60</th>\n",
       "      <td>16</td>\n",
       "    </tr>\n",
       "    <tr>\n",
       "      <th>60~70</th>\n",
       "      <td>18</td>\n",
       "    </tr>\n",
       "    <tr>\n",
       "      <th>70~80</th>\n",
       "      <td>6</td>\n",
       "    </tr>\n",
       "    <tr>\n",
       "      <th>80~90</th>\n",
       "      <td>0</td>\n",
       "    </tr>\n",
       "    <tr>\n",
       "      <th>90~100</th>\n",
       "      <td>0</td>\n",
       "    </tr>\n",
       "  </tbody>\n",
       "</table>\n",
       "</div>"
      ],
      "text/plain": [
       "        Frequence\n",
       "0~10            0\n",
       "10~20           0\n",
       "20~30           0\n",
       "30~40           2\n",
       "40~50           8\n",
       "50~60          16\n",
       "60~70          18\n",
       "70~80           6\n",
       "80~90           0\n",
       "90~100          0"
      ]
     },
     "metadata": {},
     "output_type": "display_data"
    },
    {
     "data": {
      "text/html": [
       "<div>\n",
       "<style scoped>\n",
       "    .dataframe tbody tr th:only-of-type {\n",
       "        vertical-align: middle;\n",
       "    }\n",
       "\n",
       "    .dataframe tbody tr th {\n",
       "        vertical-align: top;\n",
       "    }\n",
       "\n",
       "    .dataframe thead th {\n",
       "        text-align: right;\n",
       "    }\n",
       "</style>\n",
       "<table border=\"1\" class=\"dataframe\">\n",
       "  <thead>\n",
       "    <tr style=\"text-align: right;\">\n",
       "      <th></th>\n",
       "      <th>Frequence</th>\n",
       "      <th>class_mark</th>\n",
       "    </tr>\n",
       "  </thead>\n",
       "  <tbody>\n",
       "    <tr>\n",
       "      <th>0~10</th>\n",
       "      <td>0</td>\n",
       "      <td>5.0</td>\n",
       "    </tr>\n",
       "    <tr>\n",
       "      <th>10~20</th>\n",
       "      <td>0</td>\n",
       "      <td>15.0</td>\n",
       "    </tr>\n",
       "    <tr>\n",
       "      <th>20~30</th>\n",
       "      <td>0</td>\n",
       "      <td>25.0</td>\n",
       "    </tr>\n",
       "    <tr>\n",
       "      <th>30~40</th>\n",
       "      <td>2</td>\n",
       "      <td>35.0</td>\n",
       "    </tr>\n",
       "    <tr>\n",
       "      <th>40~50</th>\n",
       "      <td>8</td>\n",
       "      <td>45.0</td>\n",
       "    </tr>\n",
       "    <tr>\n",
       "      <th>50~60</th>\n",
       "      <td>16</td>\n",
       "      <td>55.0</td>\n",
       "    </tr>\n",
       "    <tr>\n",
       "      <th>60~70</th>\n",
       "      <td>18</td>\n",
       "      <td>65.0</td>\n",
       "    </tr>\n",
       "    <tr>\n",
       "      <th>70~80</th>\n",
       "      <td>6</td>\n",
       "      <td>75.0</td>\n",
       "    </tr>\n",
       "    <tr>\n",
       "      <th>80~90</th>\n",
       "      <td>0</td>\n",
       "      <td>85.0</td>\n",
       "    </tr>\n",
       "    <tr>\n",
       "      <th>90~100</th>\n",
       "      <td>0</td>\n",
       "      <td>95.0</td>\n",
       "    </tr>\n",
       "  </tbody>\n",
       "</table>\n",
       "</div>"
      ],
      "text/plain": [
       "        Frequence  class_mark\n",
       "0~10            0         5.0\n",
       "10~20           0        15.0\n",
       "20~30           0        25.0\n",
       "30~40           2        35.0\n",
       "40~50           8        45.0\n",
       "50~60          16        55.0\n",
       "60~70          18        65.0\n",
       "70~80           6        75.0\n",
       "80~90           0        85.0\n",
       "90~100          0        95.0"
      ]
     },
     "metadata": {},
     "output_type": "display_data"
    },
    {
     "data": {
      "text/html": [
       "<div>\n",
       "<style scoped>\n",
       "    .dataframe tbody tr th:only-of-type {\n",
       "        vertical-align: middle;\n",
       "    }\n",
       "\n",
       "    .dataframe tbody tr th {\n",
       "        vertical-align: top;\n",
       "    }\n",
       "\n",
       "    .dataframe thead th {\n",
       "        text-align: right;\n",
       "    }\n",
       "</style>\n",
       "<table border=\"1\" class=\"dataframe\">\n",
       "  <thead>\n",
       "    <tr style=\"text-align: right;\">\n",
       "      <th></th>\n",
       "      <th>Frequence</th>\n",
       "      <th>class_mark</th>\n",
       "      <th>rel_freq</th>\n",
       "    </tr>\n",
       "  </thead>\n",
       "  <tbody>\n",
       "    <tr>\n",
       "      <th>0~10</th>\n",
       "      <td>0</td>\n",
       "      <td>5.0</td>\n",
       "      <td>0.00</td>\n",
       "    </tr>\n",
       "    <tr>\n",
       "      <th>10~20</th>\n",
       "      <td>0</td>\n",
       "      <td>15.0</td>\n",
       "      <td>0.00</td>\n",
       "    </tr>\n",
       "    <tr>\n",
       "      <th>20~30</th>\n",
       "      <td>0</td>\n",
       "      <td>25.0</td>\n",
       "      <td>0.00</td>\n",
       "    </tr>\n",
       "    <tr>\n",
       "      <th>30~40</th>\n",
       "      <td>2</td>\n",
       "      <td>35.0</td>\n",
       "      <td>0.04</td>\n",
       "    </tr>\n",
       "    <tr>\n",
       "      <th>40~50</th>\n",
       "      <td>8</td>\n",
       "      <td>45.0</td>\n",
       "      <td>0.16</td>\n",
       "    </tr>\n",
       "    <tr>\n",
       "      <th>50~60</th>\n",
       "      <td>16</td>\n",
       "      <td>55.0</td>\n",
       "      <td>0.32</td>\n",
       "    </tr>\n",
       "    <tr>\n",
       "      <th>60~70</th>\n",
       "      <td>18</td>\n",
       "      <td>65.0</td>\n",
       "      <td>0.36</td>\n",
       "    </tr>\n",
       "    <tr>\n",
       "      <th>70~80</th>\n",
       "      <td>6</td>\n",
       "      <td>75.0</td>\n",
       "      <td>0.12</td>\n",
       "    </tr>\n",
       "    <tr>\n",
       "      <th>80~90</th>\n",
       "      <td>0</td>\n",
       "      <td>85.0</td>\n",
       "      <td>0.00</td>\n",
       "    </tr>\n",
       "    <tr>\n",
       "      <th>90~100</th>\n",
       "      <td>0</td>\n",
       "      <td>95.0</td>\n",
       "      <td>0.00</td>\n",
       "    </tr>\n",
       "  </tbody>\n",
       "</table>\n",
       "</div>"
      ],
      "text/plain": [
       "        Frequence  class_mark  rel_freq\n",
       "0~10            0         5.0      0.00\n",
       "10~20           0        15.0      0.00\n",
       "20~30           0        25.0      0.00\n",
       "30~40           2        35.0      0.04\n",
       "40~50           8        45.0      0.16\n",
       "50~60          16        55.0      0.32\n",
       "60~70          18        65.0      0.36\n",
       "70~80           6        75.0      0.12\n",
       "80~90           0        85.0      0.00\n",
       "90~100          0        95.0      0.00"
      ]
     },
     "metadata": {},
     "output_type": "display_data"
    },
    {
     "name": "stdout",
     "output_type": "stream",
     "text": [
      "[0.   0.   0.   0.04 0.2  0.52 0.88 1.   1.   1.  ]\n"
     ]
    }
   ],
   "source": [
    "df = pd.read_csv('../data/student/student_scores_em.csv',\n",
    "                 index_col='student number')\n",
    "#print(df.shape)   # (50, 2)\n",
    "#display(df.head())\n",
    "\n",
    "# 영어성적을 가지고 있는 ndarray 생성\n",
    "scores = df['english'].values\n",
    "#print(scores)\n",
    "\n",
    "# 특정 구간에 몇개의 데이터가 포함되는지 알려주는 Numpy 함수\n",
    "freq, tmp = np.histogram(scores, bins=10, range=(0,100))\n",
    "#print(tmp) # 경계값을 구할 수 있음\n",
    "#print(freq) # 각 bin안의 도수(frequency)\n",
    "\n",
    "# DataFrame으로 도수분포표를 표현\n",
    "# 행 index 만들기\n",
    "freq_class = [str(i) + '~' + str(i+10) for i in range(0,100,10)]\n",
    "#print(freq_class)\n",
    "\n",
    "freq_list_df = pd.DataFrame({'Frequence':freq},\n",
    "                            index=freq_class)\n",
    "display(freq_list_df)\n",
    "\n",
    "# class mark\n",
    "class_mark = [(i+(i+10)) / 2 for i in range(0,100,10)]\n",
    "freq_list_df['class_mark'] = class_mark\n",
    "display(freq_list_df)\n",
    "\n",
    "# 상대 도수(relative frequency)\n",
    "rel_freq = freq / freq.sum()\n",
    "freq_list_df['rel_freq'] = rel_freq\n",
    "display(freq_list_df)\n",
    "\n",
    "# 누적 상대 도수(cumulative relative frequency)\n",
    "print(np.cumsum(rel_freq))"
   ]
  },
  {
   "cell_type": "code",
   "execution_count": 48,
   "id": "b774e69a",
   "metadata": {},
   "outputs": [
    {
     "data": {
      "image/png": "[encoded data removed]",
      "text/plain": [
       "<Figure size 720x432 with 1 Axes>"
      ]
     },
     "metadata": {
      "needs_background": "light"
     },
     "output_type": "display_data"
    }
   ],
   "source": [
    "import matplotlib.pyplot as plt\n",
    "\n",
    "# 1차원 데이터를 이용해서 Histogram 그리기\n",
    "df = pd.read_csv('../data/student/student_scores_em.csv',\n",
    "                 index_col='student number')\n",
    "#print(df.shape)   # (50, 2)\n",
    "#display(df.head())\n",
    "\n",
    "# 영어성적을 가지고 있는 ndarray 생성\n",
    "scores = df['english'].values\n",
    "#print(scores)\n",
    "\n",
    "# 그래프 그리기\n",
    "figure = plt.figure(figsize=(10,6))\n",
    "ax = figure.add_subplot(1,1,1)\n",
    "ax.hist(scores, bins=10, range=(0,100))\n",
    "plt.show()"
   ]
  },
  {
   "cell_type": "markdown",
   "id": "3f661fde",
   "metadata": {},
   "source": [
    "### Boxplot"
   ]
  },
  {
   "cell_type": "code",
   "execution_count": 49,
   "id": "30824e91",
   "metadata": {},
   "outputs": [
    {
     "data": {
      "image/png": "[encoded data removed]",
      "text/plain": [
       "<Figure size 720x432 with 1 Axes>"
      ]
     },
     "metadata": {
      "needs_background": "light"
     },
     "output_type": "display_data"
    }
   ],
   "source": [
    "import matplotlib.pyplot as plt\n",
    "\n",
    "# 1차원 데이터를 이용해서 Histogram 그리기\n",
    "df = pd.read_csv('../data/student/student_scores_em.csv',\n",
    "                 index_col='student number')\n",
    "#print(df.shape)   # (50, 2)\n",
    "#display(df.head())\n",
    "\n",
    "# 영어성적을 가지고 있는 ndarray 생성\n",
    "scores = df['english'].values\n",
    "#print(scores)\n",
    "\n",
    "# 그래프 그리기\n",
    "fig = plt.figure(figsize=(10,6))\n",
    "ax = fig.add_subplot(1,1,1)\n",
    "ax.boxplot(scores)\n",
    "plt.show()"
   ]
  },
  {
   "cell_type": "markdown",
   "id": "58463f16",
   "metadata": {},
   "source": [
    "# 기술통계\n",
    "\n",
    "1. 1차원(1변수) 데이터의 수치지표/그래프 표현\n",
    "2. 2차원(2변수) 데이터의 수치지표/그래프 표현\n",
    "\n",
    "\n",
    "* 2차원(1변수)데이터의 수치지표<br>\n",
    "=> 공분산, 상관계수  \n",
    "<br>\n",
    "\n",
    "* 2차원(1변수)데이터의 그래프 표현<br>\n",
    "=> scatter"
   ]
  },
  {
   "cell_type": "code",
   "execution_count": 61,
   "id": "35b60975",
   "metadata": {},
   "outputs": [
    {
     "data": {
      "image/png": "[encoded data removed]",
      "text/plain": [
       "<Figure size 432x432 with 1 Axes>"
      ]
     },
     "metadata": {
      "needs_background": "light"
     },
     "output_type": "display_data"
    },
    {
     "name": "stdout",
     "output_type": "stream",
     "text": [
      "55.0 71.4\n"
     ]
    }
   ],
   "source": [
    "import matplotlib.pyplot as plt\n",
    "\n",
    "# 2차원 데이터!\n",
    "df = pd.read_csv('../data/student/student_scores_em.csv',\n",
    "                 index_col='student number')\n",
    "#print(df.shape)   # (50, 2)\n",
    "#display(df.head())\n",
    "\n",
    "en_scores = df['english'][:10]\n",
    "ma_scores = df['mathematics'][:10]\n",
    "\n",
    "scores_df = pd.DataFrame({'english':en_scores.values,\n",
    "                          'mathematics':ma_scores.values},\n",
    "                         index=['A','B','C','D','E','F','G','H','I','J'])\n",
    "#display(scores_df)\n",
    "\n",
    "# scatter 로 그려보자\n",
    "figure = plt.figure(figsize=(6,6))\n",
    "ax = figure.add_subplot(1,1,1)\n",
    "\n",
    "ax.scatter(en_scores, ma_scores)\n",
    "ax.set_xlabel('english')\n",
    "ax.set_ylabel('mathematics')\n",
    "\n",
    "plt.show()\n",
    "\n",
    "# 영어와 수학의 평균을 구해보자\n",
    "print(en_scores.mean(), ma_scores.mean())   # 55.0  /  71.4\n"
   ]
  },
  {
   "cell_type": "code",
   "execution_count": null,
   "id": "529ea490",
   "metadata": {},
   "outputs": [],
   "source": []
  }
 ],
 "metadata": {
  "kernelspec": {
   "display_name": "Python [conda env:machine] *",
   "language": "python",
   "name": "conda-env-machine-py"
  },
  "language_info": {
   "codemirror_mode": {
    "name": "ipython",
    "version": 3
   },
   "file_extension": ".py",
   "mimetype": "text/x-python",
   "name": "python",
   "nbconvert_exporter": "python",
   "pygments_lexer": "ipython3",
   "version": "3.8.12"
  }
 },
 "nbformat": 4,
 "nbformat_minor": 5
}
